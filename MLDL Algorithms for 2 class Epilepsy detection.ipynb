{
 "cells": [
  {
   "cell_type": "markdown",
   "metadata": {
    "_uuid": "52bfbfde1bba170d2347810de8f6889029c040f7"
   },
   "source": [
    "# &#128204; Intro Of This Notebook\n",
    "The aim of this study is to diagnose epileptic seizures by using different machine learning algorithms. For this purpose, the frequency components of the EEG are extracted by using the discrete wavelet transform (DWT) and parametric  methods based on autoregressive (AR) model. Both these two feature extraction methods are applied to the input of machine learning classification algorithms such as Artificial Neural Networks (ANN), Naive Bayesian, k-Nearest Neighbor (k-NN), Support Vector Machines (SVM), Logistic Regression,Principal Component Analysis. The results show that k-NN, ANN and SVM were the most efficient method according to test processing of both DWT and AR as feature extraction for recognition of epileptic seizures in EEG."
   ]
  },
  {
   "cell_type": "code",
   "execution_count": 1,
   "metadata": {
    "_kg_hide-input": true,
    "_uuid": "6c2af32ca322bdd0686e244dd10fbb248409c7a1"
   },
   "outputs": [
    {
     "data": {
      "text/html": [
       "<style>\n",
       "@import url('https://fonts.googleapis.com/css?family=Ewert|Roboto&effect=3d|ice|');\n",
       "body {background-color: gainsboro;} \n",
       "a {color: #37c9e1; font-family: 'Roboto';} \n",
       "h1 {color: #37c9e1; font-family: 'Orbitron'; text-shadow: 4px 4px 4px #aaa;} \n",
       "h2, h3 {color: slategray; font-family: 'Orbitron'; text-shadow: 4px 4px 4px #aaa;}\n",
       "h4 {color: #818286; font-family: 'Roboto';}\n",
       "span {font-family:'Roboto'; color:black; text-shadow: 5px 5px 5px #aaa;}  \n",
       "div.output_area pre{font-family:'Roboto'; font-size:110%; color:lightblue;}      \n",
       "</style>\n"
      ],
      "text/plain": [
       "<IPython.core.display.HTML object>"
      ]
     },
     "metadata": {},
     "output_type": "display_data"
    }
   ],
   "source": [
    "%%html\n",
    "<style>\n",
    "@import url('https://fonts.googleapis.com/css?family=Ewert|Roboto&effect=3d|ice|');\n",
    "body {background-color: gainsboro;} \n",
    "a {color: #37c9e1; font-family: 'Roboto';} \n",
    "h1 {color: #37c9e1; font-family: 'Orbitron'; text-shadow: 4px 4px 4px #aaa;} \n",
    "h2, h3 {color: slategray; font-family: 'Orbitron'; text-shadow: 4px 4px 4px #aaa;}\n",
    "h4 {color: #818286; font-family: 'Roboto';}\n",
    "span {font-family:'Roboto'; color:black; text-shadow: 5px 5px 5px #aaa;}  \n",
    "div.output_area pre{font-family:'Roboto'; font-size:110%; color:lightblue;}      \n",
    "</style>"
   ]
  },
  {
   "cell_type": "markdown",
   "metadata": {
    "_cell_guid": "b1076dfc-b9ad-4769-8c92-a6c4dae69d19",
    "_uuid": "8f2839f25d086af736a60e9eeb907d3b93b6e0e5"
   },
   "source": [
    "# &#128225; Introduction Of Epileptic\n",
    "Epilepsy is a serious brain illness that is an endemic neurological disorder all over  the world. It is a clinical result that occurs with abnormal neurological electrical  discharging of brain. Epileptic seizures represent the most common positive signs and  symptoms of brain disturbance, and epilepsy is one of the most common primary  brain disorders . Vascular causes, traumatic causes, infections and brain abscesses,  brain tumors, nutritional deficiencies, pyridoxine deficiency, calcium metabolism  disorders are lead causes for epilepsy. For in diagnosing epilepsy, research is needed  for better understanding of mechanisms causing epileptic disorders. The evaluation  and treatment of neurophysiologic disorders are diagnosed with the  electroencephalogram [EEG]. EEG is crucial for accurate classification of different  forms of epilepsy ."
   ]
  },
  {
   "cell_type": "markdown",
   "metadata": {
    "_cell_guid": "79c7e3d0-c299-4dcb-8224-4455121ee9b0",
    "_uuid": "d629ff2d2480ee46fbb7e2d37f6b5fab8052498a"
   },
   "source": [
    "# Theoretical Background\n",
    "The aim of this study is to contribute to the diagnosis of epilepsy by taking advantage of the engineering. So, for diagnosing of epileptic seizures from EEG signals are transformed discrete wavelet and auto regressive models. After these transformations, extract data is applied input for Back-propagation, Naive Bayesian, k-Nearest Neighbor (k-NN), Support Vector Machines (SVM) ,ANN ,Logistic Regression and Principal Component Analysis algorithms."
   ]
  },
  {
   "cell_type": "markdown",
   "metadata": {
    "_uuid": "f87ef7827d46d14e55f921b25c7d762175e941dc"
   },
   "source": [
    "# EEG Data Recording\n",
    "EEG signals are separated into α, β, δ and θ spectral components and provide a  wide range of frequency components. EEG spectrum contains some characteristic  waveforms that fall primarily within four frequency bands as follows: δ(0.5-4 Hz),  θ(4-8 Hz), α(8-13 Hz), and β (13- 30 Hz) .\n",
    "EEG data set has acquired different age groups in this study. They are known  epileptic with uncontrolled seizures and are admitted to the neurology department of the Medical Faculty Hospital of Dicle University1. For this system LabView pro-  gramming language has been used  and the EEG data used in 400 people who re-  ceived 200 of them are epilepsy and with 200 of them are normal. Data set represents  of signals belong to several healthy and epileptic patients. The EEG signals that are  contained by PCI-MIO 16E DAQ card system that provides real time processing and  is a data bus of computer, signal processor and personal computer. Fig. 2 shows that  how to acquire EEG data from a patient [1]. EEG signals are to ensure the accuracy of  diagnosing disease that usually is taken 8-10 hours in the form of records. EEG sig-  nals are used in section and 23.6 seconds, 173 Hz sampling frequency is illustrated  with. International 10–20 electrode placement system according to the data collected,  12-bit analog-digital conversion after the samples are recorded subsequently. Data can  be passed through the filter 0.53–40 Hz band–pass, the EEG in the presence of clini-  cal interest for focusing range is provided. The EEG data used in our study were  downloaded from 24-h EEG recorded from both epileptic patients and normal sub-  jects. The following bipolar EEG channels were selected for analysis: F7-C3, F8-C4,  T5-O1 and T6-O2. In order to assess the performance of the classifier, we selected  500 EEG segments containing spike and wave complex, artifacts and background  normal EEG .\n",
    "![Imgur](https://i.imgur.com/6rQgYS9.png)"
   ]
  },
  {
   "cell_type": "markdown",
   "metadata": {
    "_uuid": "30e388d1b8ce7f8c9654828ef320fb39d953bab0"
   },
   "source": [
    "# Discrete Wavelet Transform\n",
    "Wavelet transform is more advantageous spectral analyze method than other  spectral analyze methods on non-stationary signals. Because the wavelet transform  method changes large low-frequency, high frequency that is narrow for the window  size. So, the entire frequency range can be achieved in the optimum time-frequency  resolution [22] Continuous and discrete wavelet transform is analyzed in the scale and  variation of parameters due to the continuous wavelet coefficients for each scale is  difficult and time consuming. For this reason, discrete wavelet transform is used more\n",
    "ften than these non-stationary signals. Wavelet scale is divided into a number of  points for x[n] process as seen in Fig. 2 that is called multi resolution decomposition.  It is important that is selected appropriate wavelet decomposition level, the number of  detection and wavelet transform analysis of signals. Because of classification accura-  cy is dependent on type of wavelet, dominant frequency components of signals are  determined according to the number of decomposition levels.\n",
    "Wavelet coefficients contain important information about EEG signal that provide  extraction of feature vector. Statistical-time frequency of EEG signals sequences are:\n",
    "\n",
    "The average of the absolute value of coefficients in each sub-band.\n",
    "The maximum absolute value of coefficients in each sub-band.\n",
    "The mean force coefficients of each sub-band.\n",
    "Standard deviation of coefficients in each sub-band.\n",
    "The average absolute value of the ratio of adjacent bands.\n",
    "Distribution of breakdown coefficients in each sub-band.\n",
    "\n",
    "1-3 sequence is signal characteristic; 4-6 sequence is that amount of frequency  change. This feature vector, of EEG signals that are used as inputs for multi-layer  neural network classification.\n",
    "![Imgur](https://i.imgur.com/Jzj3UAU.png)"
   ]
  },
  {
   "cell_type": "markdown",
   "metadata": {
    "_uuid": "b9ad6f280e93376b5811f0cd1f25556150660b21"
   },
   "source": [
    "# Importing the libraries"
   ]
  },
  {
   "cell_type": "code",
   "execution_count": 2,
   "metadata": {
    "_kg_hide-input": true,
    "_uuid": "87d159a308dde25e6f89f58501552945f4c261cf",
    "execution": {
     "iopub.execute_input": "2023-02-04T16:08:28.205389Z",
     "iopub.status.busy": "2023-02-04T16:08:28.204671Z",
     "iopub.status.idle": "2023-02-04T16:08:29.037119Z",
     "shell.execute_reply": "2023-02-04T16:08:29.035792Z",
     "shell.execute_reply.started": "2023-02-04T16:08:28.205326Z"
    }
   },
   "outputs": [],
   "source": [
    "import numpy as np\n",
    "import matplotlib.pyplot as plt\n",
    "import pandas as pd\n",
    "import seaborn as sn"
   ]
  },
  {
   "cell_type": "markdown",
   "metadata": {
    "_uuid": "710c7bc8e8f0ebf31b579ae609e2c8b364e4b731"
   },
   "source": [
    "# Load the Dataset"
   ]
  },
  {
   "cell_type": "code",
   "execution_count": 3,
   "metadata": {
    "_kg_hide-input": true,
    "_uuid": "ffb826c5e8da301b74c3a0161e7dcc079fec03ce",
    "execution": {
     "iopub.execute_input": "2023-02-04T16:08:49.828424Z",
     "iopub.status.busy": "2023-02-04T16:08:49.828067Z",
     "iopub.status.idle": "2023-02-04T16:08:50.233912Z",
     "shell.execute_reply": "2023-02-04T16:08:50.233179Z",
     "shell.execute_reply.started": "2023-02-04T16:08:49.828360Z"
    }
   },
   "outputs": [],
   "source": [
    "ESR = pd.read_csv('../input/Epileptic Seizure Recognition.csv')"
   ]
  },
  {
   "cell_type": "markdown",
   "metadata": {
    "_uuid": "f747e03448e282cdb4f5a611a8aa2191acc71c80"
   },
   "source": [
    "# Read and Show Dataset\n",
    "* The original dataset from the reference consists of 5 different folders, each with 100 files, with each file representing a single subject/person. Each file is a recording of brain activity for 23.6 seconds.\n",
    "\n",
    "* The corresponding time-series is sampled into 4097 data points. Each data point is the value of the EEG recording at a different point in time. So we have total 500 individuals with each has 4097 data points for 23.5 seconds.\n",
    "\n",
    "* We divided and shuffled every 4097 data points into 23 chunks, each chunk contains 178 data points for 1 second, and each data point is the value of the EEG recording at a different point in time.\n",
    "\n",
    "* So now we have 23 x 500 = 11500 pieces of information(row), each information contains 178 data points for 1 second(column), the last column represents the label y {1,2,3,4,5}.\n",
    "\n",
    "* The response variable is y in column 179, the Explanatory variables X1, X2, ..., X178"
   ]
  },
  {
   "cell_type": "code",
   "execution_count": 4,
   "metadata": {
    "_kg_hide-input": true,
    "_uuid": "98727073fd4a8acefbbe53251f25fe30986f1e2f",
    "execution": {
     "iopub.execute_input": "2023-02-04T16:08:57.655631Z",
     "iopub.status.busy": "2023-02-04T16:08:57.655316Z",
     "iopub.status.idle": "2023-02-04T16:08:57.777984Z",
     "shell.execute_reply": "2023-02-04T16:08:57.777222Z",
     "shell.execute_reply.started": "2023-02-04T16:08:57.655577Z"
    }
   },
   "outputs": [
    {
     "data": {
      "text/html": [
       "<div>\n",
       "<style scoped>\n",
       "    .dataframe tbody tr th:only-of-type {\n",
       "        vertical-align: middle;\n",
       "    }\n",
       "\n",
       "    .dataframe tbody tr th {\n",
       "        vertical-align: top;\n",
       "    }\n",
       "\n",
       "    .dataframe thead th {\n",
       "        text-align: right;\n",
       "    }\n",
       "</style>\n",
       "<table border=\"1\" class=\"dataframe\">\n",
       "  <thead>\n",
       "    <tr style=\"text-align: right;\">\n",
       "      <th></th>\n",
       "      <th>Unnamed</th>\n",
       "      <th>X1</th>\n",
       "      <th>X2</th>\n",
       "      <th>X3</th>\n",
       "      <th>X4</th>\n",
       "      <th>X5</th>\n",
       "      <th>X6</th>\n",
       "      <th>X7</th>\n",
       "      <th>X8</th>\n",
       "      <th>X9</th>\n",
       "      <th>X10</th>\n",
       "      <th>X11</th>\n",
       "      <th>X12</th>\n",
       "      <th>X13</th>\n",
       "      <th>X14</th>\n",
       "      <th>X15</th>\n",
       "      <th>X16</th>\n",
       "      <th>X17</th>\n",
       "      <th>X18</th>\n",
       "      <th>X19</th>\n",
       "      <th>X20</th>\n",
       "      <th>X21</th>\n",
       "      <th>X22</th>\n",
       "      <th>X23</th>\n",
       "      <th>X24</th>\n",
       "      <th>X25</th>\n",
       "      <th>X26</th>\n",
       "      <th>X27</th>\n",
       "      <th>X28</th>\n",
       "      <th>X29</th>\n",
       "      <th>X30</th>\n",
       "      <th>X31</th>\n",
       "      <th>X32</th>\n",
       "      <th>X33</th>\n",
       "      <th>X34</th>\n",
       "      <th>X35</th>\n",
       "      <th>X36</th>\n",
       "      <th>X37</th>\n",
       "      <th>X38</th>\n",
       "      <th>X39</th>\n",
       "      <th>...</th>\n",
       "      <th>X140</th>\n",
       "      <th>X141</th>\n",
       "      <th>X142</th>\n",
       "      <th>X143</th>\n",
       "      <th>X144</th>\n",
       "      <th>X145</th>\n",
       "      <th>X146</th>\n",
       "      <th>X147</th>\n",
       "      <th>X148</th>\n",
       "      <th>X149</th>\n",
       "      <th>X150</th>\n",
       "      <th>X151</th>\n",
       "      <th>X152</th>\n",
       "      <th>X153</th>\n",
       "      <th>X154</th>\n",
       "      <th>X155</th>\n",
       "      <th>X156</th>\n",
       "      <th>X157</th>\n",
       "      <th>X158</th>\n",
       "      <th>X159</th>\n",
       "      <th>X160</th>\n",
       "      <th>X161</th>\n",
       "      <th>X162</th>\n",
       "      <th>X163</th>\n",
       "      <th>X164</th>\n",
       "      <th>X165</th>\n",
       "      <th>X166</th>\n",
       "      <th>X167</th>\n",
       "      <th>X168</th>\n",
       "      <th>X169</th>\n",
       "      <th>X170</th>\n",
       "      <th>X171</th>\n",
       "      <th>X172</th>\n",
       "      <th>X173</th>\n",
       "      <th>X174</th>\n",
       "      <th>X175</th>\n",
       "      <th>X176</th>\n",
       "      <th>X177</th>\n",
       "      <th>X178</th>\n",
       "      <th>y</th>\n",
       "    </tr>\n",
       "  </thead>\n",
       "  <tbody>\n",
       "    <tr>\n",
       "      <th>0</th>\n",
       "      <td>X21.V1.791</td>\n",
       "      <td>135</td>\n",
       "      <td>190</td>\n",
       "      <td>229</td>\n",
       "      <td>223</td>\n",
       "      <td>192</td>\n",
       "      <td>125</td>\n",
       "      <td>55</td>\n",
       "      <td>-9</td>\n",
       "      <td>-33</td>\n",
       "      <td>-38</td>\n",
       "      <td>-10</td>\n",
       "      <td>35</td>\n",
       "      <td>64</td>\n",
       "      <td>113</td>\n",
       "      <td>152</td>\n",
       "      <td>164</td>\n",
       "      <td>127</td>\n",
       "      <td>50</td>\n",
       "      <td>-47</td>\n",
       "      <td>-121</td>\n",
       "      <td>-138</td>\n",
       "      <td>-125</td>\n",
       "      <td>-101</td>\n",
       "      <td>-50</td>\n",
       "      <td>11</td>\n",
       "      <td>39</td>\n",
       "      <td>24</td>\n",
       "      <td>48</td>\n",
       "      <td>64</td>\n",
       "      <td>46</td>\n",
       "      <td>13</td>\n",
       "      <td>-19</td>\n",
       "      <td>-61</td>\n",
       "      <td>-96</td>\n",
       "      <td>-130</td>\n",
       "      <td>-132</td>\n",
       "      <td>-116</td>\n",
       "      <td>-115</td>\n",
       "      <td>-71</td>\n",
       "      <td>...</td>\n",
       "      <td>54</td>\n",
       "      <td>90</td>\n",
       "      <td>111</td>\n",
       "      <td>107</td>\n",
       "      <td>64</td>\n",
       "      <td>32</td>\n",
       "      <td>18</td>\n",
       "      <td>-25</td>\n",
       "      <td>-69</td>\n",
       "      <td>-65</td>\n",
       "      <td>-44</td>\n",
       "      <td>-33</td>\n",
       "      <td>-57</td>\n",
       "      <td>-88</td>\n",
       "      <td>-114</td>\n",
       "      <td>-130</td>\n",
       "      <td>-114</td>\n",
       "      <td>-83</td>\n",
       "      <td>-53</td>\n",
       "      <td>-79</td>\n",
       "      <td>-72</td>\n",
       "      <td>-85</td>\n",
       "      <td>-109</td>\n",
       "      <td>-98</td>\n",
       "      <td>-72</td>\n",
       "      <td>-65</td>\n",
       "      <td>-63</td>\n",
       "      <td>-11</td>\n",
       "      <td>10</td>\n",
       "      <td>8</td>\n",
       "      <td>-17</td>\n",
       "      <td>-15</td>\n",
       "      <td>-31</td>\n",
       "      <td>-77</td>\n",
       "      <td>-103</td>\n",
       "      <td>-127</td>\n",
       "      <td>-116</td>\n",
       "      <td>-83</td>\n",
       "      <td>-51</td>\n",
       "      <td>4</td>\n",
       "    </tr>\n",
       "    <tr>\n",
       "      <th>1</th>\n",
       "      <td>X15.V1.924</td>\n",
       "      <td>386</td>\n",
       "      <td>382</td>\n",
       "      <td>356</td>\n",
       "      <td>331</td>\n",
       "      <td>320</td>\n",
       "      <td>315</td>\n",
       "      <td>307</td>\n",
       "      <td>272</td>\n",
       "      <td>244</td>\n",
       "      <td>232</td>\n",
       "      <td>237</td>\n",
       "      <td>258</td>\n",
       "      <td>212</td>\n",
       "      <td>2</td>\n",
       "      <td>-267</td>\n",
       "      <td>-605</td>\n",
       "      <td>-850</td>\n",
       "      <td>-1001</td>\n",
       "      <td>-1109</td>\n",
       "      <td>-1090</td>\n",
       "      <td>-967</td>\n",
       "      <td>-746</td>\n",
       "      <td>-464</td>\n",
       "      <td>-152</td>\n",
       "      <td>118</td>\n",
       "      <td>318</td>\n",
       "      <td>427</td>\n",
       "      <td>473</td>\n",
       "      <td>485</td>\n",
       "      <td>447</td>\n",
       "      <td>397</td>\n",
       "      <td>339</td>\n",
       "      <td>312</td>\n",
       "      <td>314</td>\n",
       "      <td>326</td>\n",
       "      <td>335</td>\n",
       "      <td>332</td>\n",
       "      <td>324</td>\n",
       "      <td>310</td>\n",
       "      <td>...</td>\n",
       "      <td>27</td>\n",
       "      <td>146</td>\n",
       "      <td>229</td>\n",
       "      <td>269</td>\n",
       "      <td>297</td>\n",
       "      <td>307</td>\n",
       "      <td>303</td>\n",
       "      <td>305</td>\n",
       "      <td>306</td>\n",
       "      <td>307</td>\n",
       "      <td>280</td>\n",
       "      <td>231</td>\n",
       "      <td>159</td>\n",
       "      <td>85</td>\n",
       "      <td>51</td>\n",
       "      <td>43</td>\n",
       "      <td>62</td>\n",
       "      <td>63</td>\n",
       "      <td>63</td>\n",
       "      <td>69</td>\n",
       "      <td>89</td>\n",
       "      <td>123</td>\n",
       "      <td>136</td>\n",
       "      <td>127</td>\n",
       "      <td>102</td>\n",
       "      <td>95</td>\n",
       "      <td>105</td>\n",
       "      <td>131</td>\n",
       "      <td>163</td>\n",
       "      <td>168</td>\n",
       "      <td>164</td>\n",
       "      <td>150</td>\n",
       "      <td>146</td>\n",
       "      <td>152</td>\n",
       "      <td>157</td>\n",
       "      <td>156</td>\n",
       "      <td>154</td>\n",
       "      <td>143</td>\n",
       "      <td>129</td>\n",
       "      <td>1</td>\n",
       "    </tr>\n",
       "    <tr>\n",
       "      <th>2</th>\n",
       "      <td>X8.V1.1</td>\n",
       "      <td>-32</td>\n",
       "      <td>-39</td>\n",
       "      <td>-47</td>\n",
       "      <td>-37</td>\n",
       "      <td>-32</td>\n",
       "      <td>-36</td>\n",
       "      <td>-57</td>\n",
       "      <td>-73</td>\n",
       "      <td>-85</td>\n",
       "      <td>-94</td>\n",
       "      <td>-99</td>\n",
       "      <td>-94</td>\n",
       "      <td>-96</td>\n",
       "      <td>-104</td>\n",
       "      <td>-103</td>\n",
       "      <td>-92</td>\n",
       "      <td>-75</td>\n",
       "      <td>-69</td>\n",
       "      <td>-69</td>\n",
       "      <td>-53</td>\n",
       "      <td>-37</td>\n",
       "      <td>-14</td>\n",
       "      <td>-10</td>\n",
       "      <td>-39</td>\n",
       "      <td>-78</td>\n",
       "      <td>-102</td>\n",
       "      <td>-98</td>\n",
       "      <td>-80</td>\n",
       "      <td>-54</td>\n",
       "      <td>-40</td>\n",
       "      <td>-35</td>\n",
       "      <td>-39</td>\n",
       "      <td>-32</td>\n",
       "      <td>-13</td>\n",
       "      <td>7</td>\n",
       "      <td>34</td>\n",
       "      <td>41</td>\n",
       "      <td>33</td>\n",
       "      <td>6</td>\n",
       "      <td>...</td>\n",
       "      <td>-82</td>\n",
       "      <td>-107</td>\n",
       "      <td>-126</td>\n",
       "      <td>-124</td>\n",
       "      <td>-108</td>\n",
       "      <td>-84</td>\n",
       "      <td>-68</td>\n",
       "      <td>-61</td>\n",
       "      <td>-56</td>\n",
       "      <td>-63</td>\n",
       "      <td>-62</td>\n",
       "      <td>-33</td>\n",
       "      <td>1</td>\n",
       "      <td>28</td>\n",
       "      <td>45</td>\n",
       "      <td>37</td>\n",
       "      <td>48</td>\n",
       "      <td>62</td>\n",
       "      <td>80</td>\n",
       "      <td>66</td>\n",
       "      <td>23</td>\n",
       "      <td>-11</td>\n",
       "      <td>-39</td>\n",
       "      <td>-44</td>\n",
       "      <td>-42</td>\n",
       "      <td>-45</td>\n",
       "      <td>-48</td>\n",
       "      <td>-42</td>\n",
       "      <td>-6</td>\n",
       "      <td>29</td>\n",
       "      <td>57</td>\n",
       "      <td>64</td>\n",
       "      <td>48</td>\n",
       "      <td>19</td>\n",
       "      <td>-12</td>\n",
       "      <td>-30</td>\n",
       "      <td>-35</td>\n",
       "      <td>-35</td>\n",
       "      <td>-36</td>\n",
       "      <td>5</td>\n",
       "    </tr>\n",
       "    <tr>\n",
       "      <th>3</th>\n",
       "      <td>X16.V1.60</td>\n",
       "      <td>-105</td>\n",
       "      <td>-101</td>\n",
       "      <td>-96</td>\n",
       "      <td>-92</td>\n",
       "      <td>-89</td>\n",
       "      <td>-95</td>\n",
       "      <td>-102</td>\n",
       "      <td>-100</td>\n",
       "      <td>-87</td>\n",
       "      <td>-79</td>\n",
       "      <td>-72</td>\n",
       "      <td>-68</td>\n",
       "      <td>-74</td>\n",
       "      <td>-80</td>\n",
       "      <td>-83</td>\n",
       "      <td>-73</td>\n",
       "      <td>-68</td>\n",
       "      <td>-61</td>\n",
       "      <td>-58</td>\n",
       "      <td>-59</td>\n",
       "      <td>-64</td>\n",
       "      <td>-79</td>\n",
       "      <td>-84</td>\n",
       "      <td>-97</td>\n",
       "      <td>-94</td>\n",
       "      <td>-84</td>\n",
       "      <td>-77</td>\n",
       "      <td>-75</td>\n",
       "      <td>-72</td>\n",
       "      <td>-68</td>\n",
       "      <td>-76</td>\n",
       "      <td>-76</td>\n",
       "      <td>-72</td>\n",
       "      <td>-67</td>\n",
       "      <td>-69</td>\n",
       "      <td>-69</td>\n",
       "      <td>-69</td>\n",
       "      <td>-67</td>\n",
       "      <td>-68</td>\n",
       "      <td>...</td>\n",
       "      <td>-69</td>\n",
       "      <td>-66</td>\n",
       "      <td>-74</td>\n",
       "      <td>-69</td>\n",
       "      <td>-61</td>\n",
       "      <td>-51</td>\n",
       "      <td>-45</td>\n",
       "      <td>-45</td>\n",
       "      <td>-49</td>\n",
       "      <td>-58</td>\n",
       "      <td>-64</td>\n",
       "      <td>-78</td>\n",
       "      <td>-80</td>\n",
       "      <td>-90</td>\n",
       "      <td>-87</td>\n",
       "      <td>-83</td>\n",
       "      <td>-78</td>\n",
       "      <td>-64</td>\n",
       "      <td>-38</td>\n",
       "      <td>-22</td>\n",
       "      <td>-29</td>\n",
       "      <td>-42</td>\n",
       "      <td>-51</td>\n",
       "      <td>-68</td>\n",
       "      <td>-71</td>\n",
       "      <td>-69</td>\n",
       "      <td>-69</td>\n",
       "      <td>-74</td>\n",
       "      <td>-74</td>\n",
       "      <td>-80</td>\n",
       "      <td>-82</td>\n",
       "      <td>-81</td>\n",
       "      <td>-80</td>\n",
       "      <td>-77</td>\n",
       "      <td>-85</td>\n",
       "      <td>-77</td>\n",
       "      <td>-72</td>\n",
       "      <td>-69</td>\n",
       "      <td>-65</td>\n",
       "      <td>5</td>\n",
       "    </tr>\n",
       "    <tr>\n",
       "      <th>4</th>\n",
       "      <td>X20.V1.54</td>\n",
       "      <td>-9</td>\n",
       "      <td>-65</td>\n",
       "      <td>-98</td>\n",
       "      <td>-102</td>\n",
       "      <td>-78</td>\n",
       "      <td>-48</td>\n",
       "      <td>-16</td>\n",
       "      <td>0</td>\n",
       "      <td>-21</td>\n",
       "      <td>-59</td>\n",
       "      <td>-90</td>\n",
       "      <td>-103</td>\n",
       "      <td>-84</td>\n",
       "      <td>-43</td>\n",
       "      <td>-9</td>\n",
       "      <td>3</td>\n",
       "      <td>-21</td>\n",
       "      <td>-60</td>\n",
       "      <td>-96</td>\n",
       "      <td>-103</td>\n",
       "      <td>-75</td>\n",
       "      <td>-29</td>\n",
       "      <td>14</td>\n",
       "      <td>55</td>\n",
       "      <td>78</td>\n",
       "      <td>73</td>\n",
       "      <td>28</td>\n",
       "      <td>-13</td>\n",
       "      <td>-43</td>\n",
       "      <td>-68</td>\n",
       "      <td>-78</td>\n",
       "      <td>-75</td>\n",
       "      <td>-55</td>\n",
       "      <td>-41</td>\n",
       "      <td>-19</td>\n",
       "      <td>-20</td>\n",
       "      <td>-29</td>\n",
       "      <td>-36</td>\n",
       "      <td>-20</td>\n",
       "      <td>...</td>\n",
       "      <td>38</td>\n",
       "      <td>26</td>\n",
       "      <td>10</td>\n",
       "      <td>-4</td>\n",
       "      <td>-13</td>\n",
       "      <td>-8</td>\n",
       "      <td>0</td>\n",
       "      <td>10</td>\n",
       "      <td>19</td>\n",
       "      <td>29</td>\n",
       "      <td>57</td>\n",
       "      <td>63</td>\n",
       "      <td>45</td>\n",
       "      <td>7</td>\n",
       "      <td>-13</td>\n",
       "      <td>-23</td>\n",
       "      <td>-9</td>\n",
       "      <td>9</td>\n",
       "      <td>11</td>\n",
       "      <td>3</td>\n",
       "      <td>-1</td>\n",
       "      <td>-2</td>\n",
       "      <td>4</td>\n",
       "      <td>18</td>\n",
       "      <td>27</td>\n",
       "      <td>27</td>\n",
       "      <td>14</td>\n",
       "      <td>15</td>\n",
       "      <td>11</td>\n",
       "      <td>10</td>\n",
       "      <td>4</td>\n",
       "      <td>2</td>\n",
       "      <td>-12</td>\n",
       "      <td>-32</td>\n",
       "      <td>-41</td>\n",
       "      <td>-65</td>\n",
       "      <td>-83</td>\n",
       "      <td>-89</td>\n",
       "      <td>-73</td>\n",
       "      <td>5</td>\n",
       "    </tr>\n",
       "  </tbody>\n",
       "</table>\n",
       "</div>"
      ],
      "text/plain": [
       "      Unnamed   X1   X2   X3   X4   X5 ...  X174  X175  X176  X177  X178  y\n",
       "0  X21.V1.791  135  190  229  223  192 ...  -103  -127  -116   -83   -51  4\n",
       "1  X15.V1.924  386  382  356  331  320 ...   157   156   154   143   129  1\n",
       "2     X8.V1.1  -32  -39  -47  -37  -32 ...   -12   -30   -35   -35   -36  5\n",
       "3   X16.V1.60 -105 -101  -96  -92  -89 ...   -85   -77   -72   -69   -65  5\n",
       "4   X20.V1.54   -9  -65  -98 -102  -78 ...   -41   -65   -83   -89   -73  5\n",
       "\n",
       "[5 rows x 180 columns]"
      ]
     },
     "execution_count": 4,
     "metadata": {},
     "output_type": "execute_result"
    }
   ],
   "source": [
    "ESR.head()"
   ]
  },
  {
   "cell_type": "code",
   "execution_count": 5,
   "metadata": {
    "_kg_hide-input": true,
    "_uuid": "17c90c1ff8add7ace30bd8d2cfb1fa5cb48c0e48",
    "execution": {
     "iopub.execute_input": "2023-02-04T16:09:26.396473Z",
     "iopub.status.busy": "2023-02-04T16:09:26.395993Z",
     "iopub.status.idle": "2023-02-04T16:09:26.695364Z",
     "shell.execute_reply": "2023-02-04T16:09:26.694147Z",
     "shell.execute_reply.started": "2023-02-04T16:09:26.396249Z"
    }
   },
   "outputs": [
    {
     "name": "stderr",
     "output_type": "stream",
     "text": [
      "/opt/conda/lib/python3.6/site-packages/ipykernel_launcher.py:3: SettingWithCopyWarning: \n",
      "A value is trying to be set on a copy of a slice from a DataFrame\n",
      "\n",
      "See the caveats in the documentation: http://pandas.pydata.org/pandas-docs/stable/indexing.html#indexing-view-versus-copy\n",
      "  This is separate from the ipykernel package so we can avoid doing imports until\n"
     ]
    },
    {
     "name": "stdout",
     "output_type": "stream",
     "text": [
      "The number of trials for the non-seizure class is: 9200\n",
      "The number of trials for the seizure class is: 2300\n"
     ]
    },
    {
     "data": {
      "image/png": "[encoded data removed]",
      "text/plain": [
       "<Figure size 432x288 with 1 Axes>"
      ]
     },
     "metadata": {
      "needs_background": "light"
     },
     "output_type": "display_data"
    }
   ],
   "source": [
    "cols = ESR.columns\n",
    "tgt = ESR.y\n",
    "tgt[tgt>1]=0\n",
    "ax = sn.countplot(tgt,label=\"Count\")\n",
    "non_seizure, seizure = tgt.value_counts()\n",
    "print('The number of trials for the non-seizure class is:', non_seizure)\n",
    "print('The number of trials for the seizure class is:', seizure)"
   ]
  },
  {
   "cell_type": "markdown",
   "metadata": {
    "_uuid": "3b8358047321392e0f1a2fb20ca53c6668d8cdf3"
   },
   "source": [
    "As we can see, there are 178 EEG features and 5 possible classes. The main goal of the dataset it's to be able to correctly identify epileptic seizures from EEG data, so a binary classification between classes of label 1 and the rest (2,3,4,5). In order to train our model, let's define our independent variables (X) and our dependent variable (y)."
   ]
  },
  {
   "cell_type": "markdown",
   "metadata": {
    "_uuid": "85c42387f7cbe1d864e6ecd78110d36543b49c94"
   },
   "source": [
    "#  &#128223; Data Pre-processing\n",
    "\n",
    "## What is Data Pre-pocessing?\n",
    "![Imgur](https://i.imgur.com/HyPUqwF.png)\n",
    "Data preprocessing is a data mining technique that involves transforming raw data into an understandable format. Real-world data is often incomplete, inconsistent, and/or lacking in certain behaviors or trends, and is likely to contain many errors. Data preprocessing is a proven method of resolving such issues. Data preprocessing prepares raw data for further processing.\n",
    "![Imgur](https://i.imgur.com/VuYZfho.jpg)"
   ]
  },
  {
   "cell_type": "markdown",
   "metadata": {
    "_uuid": "552d8f6aa05052620464a652d2a381c266a2fd98"
   },
   "source": [
    "## &#128223; 1. Checking Missing Data"
   ]
  },
  {
   "cell_type": "code",
   "execution_count": 6,
   "metadata": {
    "_kg_hide-input": true,
    "_uuid": "aad4b40423e626080316e9baf284b7ee75b64d08",
    "execution": {
     "iopub.execute_input": "2023-02-04T16:10:06.870661Z",
     "iopub.status.busy": "2023-02-04T16:10:06.870345Z",
     "iopub.status.idle": "2023-02-04T16:10:06.908863Z",
     "shell.execute_reply": "2023-02-04T16:10:06.907736Z",
     "shell.execute_reply.started": "2023-02-04T16:10:06.870605Z"
    }
   },
   "outputs": [
    {
     "data": {
      "text/plain": [
       "Unnamed    0\n",
       "X1         0\n",
       "X2         0\n",
       "X3         0\n",
       "X4         0\n",
       "X5         0\n",
       "X6         0\n",
       "X7         0\n",
       "X8         0\n",
       "X9         0\n",
       "X10        0\n",
       "X11        0\n",
       "X12        0\n",
       "X13        0\n",
       "X14        0\n",
       "X15        0\n",
       "X16        0\n",
       "X17        0\n",
       "X18        0\n",
       "X19        0\n",
       "X20        0\n",
       "X21        0\n",
       "X22        0\n",
       "X23        0\n",
       "X24        0\n",
       "X25        0\n",
       "X26        0\n",
       "X27        0\n",
       "X28        0\n",
       "X29        0\n",
       "          ..\n",
       "X150       0\n",
       "X151       0\n",
       "X152       0\n",
       "X153       0\n",
       "X154       0\n",
       "X155       0\n",
       "X156       0\n",
       "X157       0\n",
       "X158       0\n",
       "X159       0\n",
       "X160       0\n",
       "X161       0\n",
       "X162       0\n",
       "X163       0\n",
       "X164       0\n",
       "X165       0\n",
       "X166       0\n",
       "X167       0\n",
       "X168       0\n",
       "X169       0\n",
       "X170       0\n",
       "X171       0\n",
       "X172       0\n",
       "X173       0\n",
       "X174       0\n",
       "X175       0\n",
       "X176       0\n",
       "X177       0\n",
       "X178       0\n",
       "y          0\n",
       "Length: 180, dtype: int64"
      ]
     },
     "execution_count": 6,
     "metadata": {},
     "output_type": "execute_result"
    }
   ],
   "source": [
    "ESR.isnull().sum()"
   ]
  },
  {
   "cell_type": "markdown",
   "metadata": {
    "_uuid": "dc7b27a8bd5b7cea21b2dcd3a3c29676e18c1bb4"
   },
   "source": [
    "###  &#128210; Note:\n",
    "Thats great here is no missing value. So we can work very smoothly."
   ]
  },
  {
   "cell_type": "markdown",
   "metadata": {
    "_uuid": "ab3a886cede2b110c7a6f5a28f42a15b478559e0"
   },
   "source": [
    "# &#128203; Exploratory Data Analysis"
   ]
  },
  {
   "cell_type": "markdown",
   "metadata": {
    "_uuid": "cdaf9a18dd4802a74fda29c78b594fdea389e2b1"
   },
   "source": [
    "## &#128505; What is Exploratory data analysis?\n",
    "![Imgur](https://i.imgur.com/HyPUqwF.png)\n",
    "In statistics, exploratory data analysis (EDA) is an approach to analyzing data sets to summarize their main characteristics, often with visual methods. A statistical model can be used or not, but primarily EDA is for seeing what the data can tell us beyond the formal modeling or hypothesis testing task.\n",
    "\n",
    "You can say that EDA is statisticians way of story telling where you explore data, find patterns and tells insights. Often you have some questions in hand you try to validate those questions by performing EDA. <b>I have one article on [EDA](https://hackernoon.com/overview-of-exploratory-data-analysis-with-python-6213e105b00b)"
   ]
  },
  {
   "cell_type": "code",
   "execution_count": 7,
   "metadata": {
    "_kg_hide-input": true,
    "_uuid": "e88bcff9f978e728a07d29bd99eee000ec0e3bcc",
    "execution": {
     "iopub.execute_input": "2023-02-04T16:10:26.015589Z",
     "iopub.status.busy": "2023-02-04T16:10:26.015232Z",
     "iopub.status.idle": "2023-02-04T16:10:26.029739Z",
     "shell.execute_reply": "2023-02-04T16:10:26.028925Z",
     "shell.execute_reply.started": "2023-02-04T16:10:26.015530Z"
    }
   },
   "outputs": [
    {
     "name": "stdout",
     "output_type": "stream",
     "text": [
      "<class 'pandas.core.frame.DataFrame'>\n",
      "RangeIndex: 11500 entries, 0 to 11499\n",
      "Columns: 180 entries, Unnamed to y\n",
      "dtypes: int64(179), object(1)\n",
      "memory usage: 15.8+ MB\n"
     ]
    }
   ],
   "source": [
    "ESR.info()"
   ]
  },
  {
   "cell_type": "code",
   "execution_count": 8,
   "metadata": {
    "_kg_hide-input": true,
    "_uuid": "c59e74a086f2f41b14f793b599f0938cdab43704",
    "execution": {
     "iopub.execute_input": "2023-02-04T16:10:39.311060Z",
     "iopub.status.busy": "2023-02-04T16:10:39.310656Z",
     "iopub.status.idle": "2023-02-04T16:10:39.905784Z",
     "shell.execute_reply": "2023-02-04T16:10:39.904746Z",
     "shell.execute_reply.started": "2023-02-04T16:10:39.310985Z"
    }
   },
   "outputs": [
    {
     "data": {
      "text/html": [
       "<div>\n",
       "<style scoped>\n",
       "    .dataframe tbody tr th:only-of-type {\n",
       "        vertical-align: middle;\n",
       "    }\n",
       "\n",
       "    .dataframe tbody tr th {\n",
       "        vertical-align: top;\n",
       "    }\n",
       "\n",
       "    .dataframe thead th {\n",
       "        text-align: right;\n",
       "    }\n",
       "</style>\n",
       "<table border=\"1\" class=\"dataframe\">\n",
       "  <thead>\n",
       "    <tr style=\"text-align: right;\">\n",
       "      <th></th>\n",
       "      <th>X1</th>\n",
       "      <th>X2</th>\n",
       "      <th>X3</th>\n",
       "      <th>X4</th>\n",
       "      <th>X5</th>\n",
       "      <th>X6</th>\n",
       "      <th>X7</th>\n",
       "      <th>X8</th>\n",
       "      <th>X9</th>\n",
       "      <th>X10</th>\n",
       "      <th>X11</th>\n",
       "      <th>X12</th>\n",
       "      <th>X13</th>\n",
       "      <th>X14</th>\n",
       "      <th>X15</th>\n",
       "      <th>X16</th>\n",
       "      <th>X17</th>\n",
       "      <th>X18</th>\n",
       "      <th>X19</th>\n",
       "      <th>X20</th>\n",
       "      <th>X21</th>\n",
       "      <th>X22</th>\n",
       "      <th>X23</th>\n",
       "      <th>X24</th>\n",
       "      <th>X25</th>\n",
       "      <th>X26</th>\n",
       "      <th>X27</th>\n",
       "      <th>X28</th>\n",
       "      <th>X29</th>\n",
       "      <th>X30</th>\n",
       "      <th>X31</th>\n",
       "      <th>X32</th>\n",
       "      <th>X33</th>\n",
       "      <th>X34</th>\n",
       "      <th>X35</th>\n",
       "      <th>X36</th>\n",
       "      <th>X37</th>\n",
       "      <th>X38</th>\n",
       "      <th>X39</th>\n",
       "      <th>X40</th>\n",
       "      <th>...</th>\n",
       "      <th>X140</th>\n",
       "      <th>X141</th>\n",
       "      <th>X142</th>\n",
       "      <th>X143</th>\n",
       "      <th>X144</th>\n",
       "      <th>X145</th>\n",
       "      <th>X146</th>\n",
       "      <th>X147</th>\n",
       "      <th>X148</th>\n",
       "      <th>X149</th>\n",
       "      <th>X150</th>\n",
       "      <th>X151</th>\n",
       "      <th>X152</th>\n",
       "      <th>X153</th>\n",
       "      <th>X154</th>\n",
       "      <th>X155</th>\n",
       "      <th>X156</th>\n",
       "      <th>X157</th>\n",
       "      <th>X158</th>\n",
       "      <th>X159</th>\n",
       "      <th>X160</th>\n",
       "      <th>X161</th>\n",
       "      <th>X162</th>\n",
       "      <th>X163</th>\n",
       "      <th>X164</th>\n",
       "      <th>X165</th>\n",
       "      <th>X166</th>\n",
       "      <th>X167</th>\n",
       "      <th>X168</th>\n",
       "      <th>X169</th>\n",
       "      <th>X170</th>\n",
       "      <th>X171</th>\n",
       "      <th>X172</th>\n",
       "      <th>X173</th>\n",
       "      <th>X174</th>\n",
       "      <th>X175</th>\n",
       "      <th>X176</th>\n",
       "      <th>X177</th>\n",
       "      <th>X178</th>\n",
       "      <th>y</th>\n",
       "    </tr>\n",
       "  </thead>\n",
       "  <tbody>\n",
       "    <tr>\n",
       "      <th>count</th>\n",
       "      <td>11500.000000</td>\n",
       "      <td>11500.000000</td>\n",
       "      <td>11500.000000</td>\n",
       "      <td>11500.000000</td>\n",
       "      <td>11500.000000</td>\n",
       "      <td>11500.000000</td>\n",
       "      <td>11500.000000</td>\n",
       "      <td>11500.00000</td>\n",
       "      <td>11500.00000</td>\n",
       "      <td>11500.000000</td>\n",
       "      <td>11500.000000</td>\n",
       "      <td>11500.000000</td>\n",
       "      <td>11500.000000</td>\n",
       "      <td>11500.000000</td>\n",
       "      <td>11500.000000</td>\n",
       "      <td>11500.000000</td>\n",
       "      <td>11500.000000</td>\n",
       "      <td>11500.000000</td>\n",
       "      <td>11500.000000</td>\n",
       "      <td>11500.000000</td>\n",
       "      <td>11500.000000</td>\n",
       "      <td>11500.000000</td>\n",
       "      <td>11500.000000</td>\n",
       "      <td>11500.000000</td>\n",
       "      <td>11500.000000</td>\n",
       "      <td>11500.00000</td>\n",
       "      <td>11500.000000</td>\n",
       "      <td>11500.000000</td>\n",
       "      <td>11500.000000</td>\n",
       "      <td>11500.000000</td>\n",
       "      <td>11500.000000</td>\n",
       "      <td>11500.000000</td>\n",
       "      <td>11500.000000</td>\n",
       "      <td>11500.000000</td>\n",
       "      <td>11500.000000</td>\n",
       "      <td>11500.000000</td>\n",
       "      <td>11500.000000</td>\n",
       "      <td>11500.000000</td>\n",
       "      <td>11500.000000</td>\n",
       "      <td>11500.000000</td>\n",
       "      <td>...</td>\n",
       "      <td>11500.000000</td>\n",
       "      <td>11500.000000</td>\n",
       "      <td>11500.000000</td>\n",
       "      <td>11500.000000</td>\n",
       "      <td>11500.000000</td>\n",
       "      <td>11500.000000</td>\n",
       "      <td>11500.000000</td>\n",
       "      <td>11500.000000</td>\n",
       "      <td>11500.000000</td>\n",
       "      <td>11500.000000</td>\n",
       "      <td>11500.000000</td>\n",
       "      <td>11500.000000</td>\n",
       "      <td>11500.000000</td>\n",
       "      <td>11500.000000</td>\n",
       "      <td>11500.000000</td>\n",
       "      <td>11500.000000</td>\n",
       "      <td>11500.000000</td>\n",
       "      <td>11500.000000</td>\n",
       "      <td>11500.000000</td>\n",
       "      <td>11500.000000</td>\n",
       "      <td>11500.000000</td>\n",
       "      <td>11500.000000</td>\n",
       "      <td>11500.000000</td>\n",
       "      <td>11500.000000</td>\n",
       "      <td>11500.000000</td>\n",
       "      <td>11500.000000</td>\n",
       "      <td>11500.000000</td>\n",
       "      <td>11500.000000</td>\n",
       "      <td>11500.000000</td>\n",
       "      <td>11500.000000</td>\n",
       "      <td>11500.000000</td>\n",
       "      <td>11500.000000</td>\n",
       "      <td>11500.000000</td>\n",
       "      <td>11500.000000</td>\n",
       "      <td>11500.000000</td>\n",
       "      <td>11500.000000</td>\n",
       "      <td>11500.000000</td>\n",
       "      <td>11500.000000</td>\n",
       "      <td>11500.000000</td>\n",
       "      <td>11500.000000</td>\n",
       "    </tr>\n",
       "    <tr>\n",
       "      <th>mean</th>\n",
       "      <td>-11.581391</td>\n",
       "      <td>-10.911565</td>\n",
       "      <td>-10.187130</td>\n",
       "      <td>-9.143043</td>\n",
       "      <td>-8.009739</td>\n",
       "      <td>-7.003478</td>\n",
       "      <td>-6.502087</td>\n",
       "      <td>-6.68713</td>\n",
       "      <td>-6.55800</td>\n",
       "      <td>-6.168435</td>\n",
       "      <td>-5.827478</td>\n",
       "      <td>-6.042174</td>\n",
       "      <td>-6.687304</td>\n",
       "      <td>-7.088870</td>\n",
       "      <td>-7.211217</td>\n",
       "      <td>-7.088261</td>\n",
       "      <td>-6.806696</td>\n",
       "      <td>-6.744696</td>\n",
       "      <td>-6.484783</td>\n",
       "      <td>-6.448435</td>\n",
       "      <td>-6.355391</td>\n",
       "      <td>-6.543130</td>\n",
       "      <td>-6.884348</td>\n",
       "      <td>-6.883217</td>\n",
       "      <td>-6.118870</td>\n",
       "      <td>-5.15913</td>\n",
       "      <td>-4.785652</td>\n",
       "      <td>-4.874783</td>\n",
       "      <td>-5.393565</td>\n",
       "      <td>-5.935478</td>\n",
       "      <td>-6.349913</td>\n",
       "      <td>-6.212522</td>\n",
       "      <td>-5.859826</td>\n",
       "      <td>-5.299826</td>\n",
       "      <td>-4.955652</td>\n",
       "      <td>-5.278087</td>\n",
       "      <td>-6.162261</td>\n",
       "      <td>-7.316609</td>\n",
       "      <td>-7.998522</td>\n",
       "      <td>-7.818870</td>\n",
       "      <td>...</td>\n",
       "      <td>-6.997304</td>\n",
       "      <td>-7.339391</td>\n",
       "      <td>-7.911565</td>\n",
       "      <td>-8.177304</td>\n",
       "      <td>-8.608870</td>\n",
       "      <td>-8.578087</td>\n",
       "      <td>-8.240000</td>\n",
       "      <td>-7.691391</td>\n",
       "      <td>-7.356522</td>\n",
       "      <td>-7.228783</td>\n",
       "      <td>-6.980870</td>\n",
       "      <td>-6.756783</td>\n",
       "      <td>-6.355304</td>\n",
       "      <td>-6.423826</td>\n",
       "      <td>-6.465217</td>\n",
       "      <td>-6.316435</td>\n",
       "      <td>-5.808000</td>\n",
       "      <td>-5.255913</td>\n",
       "      <td>-4.682087</td>\n",
       "      <td>-4.638609</td>\n",
       "      <td>-4.770261</td>\n",
       "      <td>-5.650870</td>\n",
       "      <td>-7.170348</td>\n",
       "      <td>-8.759826</td>\n",
       "      <td>-9.784783</td>\n",
       "      <td>-10.096261</td>\n",
       "      <td>-9.842957</td>\n",
       "      <td>-9.701739</td>\n",
       "      <td>-9.351391</td>\n",
       "      <td>-9.498870</td>\n",
       "      <td>-10.145739</td>\n",
       "      <td>-11.630348</td>\n",
       "      <td>-12.943478</td>\n",
       "      <td>-13.668870</td>\n",
       "      <td>-13.363304</td>\n",
       "      <td>-13.045043</td>\n",
       "      <td>-12.705130</td>\n",
       "      <td>-12.426000</td>\n",
       "      <td>-12.195652</td>\n",
       "      <td>0.200000</td>\n",
       "    </tr>\n",
       "    <tr>\n",
       "      <th>std</th>\n",
       "      <td>165.626284</td>\n",
       "      <td>166.059609</td>\n",
       "      <td>163.524317</td>\n",
       "      <td>161.269041</td>\n",
       "      <td>160.998007</td>\n",
       "      <td>161.328725</td>\n",
       "      <td>161.467837</td>\n",
       "      <td>162.11912</td>\n",
       "      <td>162.03336</td>\n",
       "      <td>160.436352</td>\n",
       "      <td>160.471017</td>\n",
       "      <td>161.181118</td>\n",
       "      <td>165.071121</td>\n",
       "      <td>169.198359</td>\n",
       "      <td>170.641967</td>\n",
       "      <td>168.930355</td>\n",
       "      <td>164.646296</td>\n",
       "      <td>162.062661</td>\n",
       "      <td>162.571333</td>\n",
       "      <td>162.339911</td>\n",
       "      <td>162.823325</td>\n",
       "      <td>163.909723</td>\n",
       "      <td>165.844176</td>\n",
       "      <td>166.009100</td>\n",
       "      <td>164.715153</td>\n",
       "      <td>162.77423</td>\n",
       "      <td>162.902294</td>\n",
       "      <td>164.799831</td>\n",
       "      <td>165.391697</td>\n",
       "      <td>164.291120</td>\n",
       "      <td>163.165167</td>\n",
       "      <td>163.408052</td>\n",
       "      <td>163.561408</td>\n",
       "      <td>162.548119</td>\n",
       "      <td>160.813772</td>\n",
       "      <td>160.441049</td>\n",
       "      <td>162.881958</td>\n",
       "      <td>166.235164</td>\n",
       "      <td>166.314965</td>\n",
       "      <td>164.513017</td>\n",
       "      <td>...</td>\n",
       "      <td>168.567495</td>\n",
       "      <td>168.662705</td>\n",
       "      <td>167.643458</td>\n",
       "      <td>167.414439</td>\n",
       "      <td>167.922773</td>\n",
       "      <td>168.274009</td>\n",
       "      <td>167.808218</td>\n",
       "      <td>166.739558</td>\n",
       "      <td>165.678558</td>\n",
       "      <td>167.130911</td>\n",
       "      <td>168.156296</td>\n",
       "      <td>167.459868</td>\n",
       "      <td>165.061414</td>\n",
       "      <td>164.248830</td>\n",
       "      <td>166.226332</td>\n",
       "      <td>168.143625</td>\n",
       "      <td>167.067064</td>\n",
       "      <td>166.446540</td>\n",
       "      <td>167.554020</td>\n",
       "      <td>169.418457</td>\n",
       "      <td>170.639171</td>\n",
       "      <td>170.817824</td>\n",
       "      <td>168.145372</td>\n",
       "      <td>166.817974</td>\n",
       "      <td>166.999981</td>\n",
       "      <td>167.756860</td>\n",
       "      <td>166.988820</td>\n",
       "      <td>167.062497</td>\n",
       "      <td>166.606345</td>\n",
       "      <td>165.235574</td>\n",
       "      <td>164.652883</td>\n",
       "      <td>166.149790</td>\n",
       "      <td>168.554058</td>\n",
       "      <td>168.556486</td>\n",
       "      <td>167.257290</td>\n",
       "      <td>164.241019</td>\n",
       "      <td>162.895832</td>\n",
       "      <td>162.886311</td>\n",
       "      <td>164.852015</td>\n",
       "      <td>0.400017</td>\n",
       "    </tr>\n",
       "    <tr>\n",
       "      <th>min</th>\n",
       "      <td>-1839.000000</td>\n",
       "      <td>-1838.000000</td>\n",
       "      <td>-1835.000000</td>\n",
       "      <td>-1845.000000</td>\n",
       "      <td>-1791.000000</td>\n",
       "      <td>-1757.000000</td>\n",
       "      <td>-1832.000000</td>\n",
       "      <td>-1778.00000</td>\n",
       "      <td>-1840.00000</td>\n",
       "      <td>-1867.000000</td>\n",
       "      <td>-1765.000000</td>\n",
       "      <td>-1803.000000</td>\n",
       "      <td>-1833.000000</td>\n",
       "      <td>-1867.000000</td>\n",
       "      <td>-1870.000000</td>\n",
       "      <td>-1839.000000</td>\n",
       "      <td>-1867.000000</td>\n",
       "      <td>-1856.000000</td>\n",
       "      <td>-1844.000000</td>\n",
       "      <td>-1717.000000</td>\n",
       "      <td>-1764.000000</td>\n",
       "      <td>-1856.000000</td>\n",
       "      <td>-1844.000000</td>\n",
       "      <td>-1866.000000</td>\n",
       "      <td>-1863.000000</td>\n",
       "      <td>-1866.00000</td>\n",
       "      <td>-1781.000000</td>\n",
       "      <td>-1860.000000</td>\n",
       "      <td>-1818.000000</td>\n",
       "      <td>-1867.000000</td>\n",
       "      <td>-1743.000000</td>\n",
       "      <td>-1517.000000</td>\n",
       "      <td>-1552.000000</td>\n",
       "      <td>-1720.000000</td>\n",
       "      <td>-1864.000000</td>\n",
       "      <td>-1814.000000</td>\n",
       "      <td>-1829.000000</td>\n",
       "      <td>-1851.000000</td>\n",
       "      <td>-1840.000000</td>\n",
       "      <td>-1673.000000</td>\n",
       "      <td>...</td>\n",
       "      <td>-1867.000000</td>\n",
       "      <td>-1826.000000</td>\n",
       "      <td>-1866.000000</td>\n",
       "      <td>-1854.000000</td>\n",
       "      <td>-1789.000000</td>\n",
       "      <td>-1872.000000</td>\n",
       "      <td>-1866.000000</td>\n",
       "      <td>-1675.000000</td>\n",
       "      <td>-1778.000000</td>\n",
       "      <td>-1733.000000</td>\n",
       "      <td>-1862.000000</td>\n",
       "      <td>-1861.000000</td>\n",
       "      <td>-1857.000000</td>\n",
       "      <td>-1839.000000</td>\n",
       "      <td>-1860.000000</td>\n",
       "      <td>-1843.000000</td>\n",
       "      <td>-1863.000000</td>\n",
       "      <td>-1861.000000</td>\n",
       "      <td>-1845.000000</td>\n",
       "      <td>-1820.000000</td>\n",
       "      <td>-1864.000000</td>\n",
       "      <td>-1868.000000</td>\n",
       "      <td>-1855.000000</td>\n",
       "      <td>-1852.000000</td>\n",
       "      <td>-1870.000000</td>\n",
       "      <td>-1847.000000</td>\n",
       "      <td>-1578.000000</td>\n",
       "      <td>-1838.000000</td>\n",
       "      <td>-1763.000000</td>\n",
       "      <td>-1860.000000</td>\n",
       "      <td>-1867.000000</td>\n",
       "      <td>-1865.000000</td>\n",
       "      <td>-1642.000000</td>\n",
       "      <td>-1723.000000</td>\n",
       "      <td>-1866.000000</td>\n",
       "      <td>-1863.000000</td>\n",
       "      <td>-1781.000000</td>\n",
       "      <td>-1727.000000</td>\n",
       "      <td>-1829.000000</td>\n",
       "      <td>0.000000</td>\n",
       "    </tr>\n",
       "    <tr>\n",
       "      <th>25%</th>\n",
       "      <td>-54.000000</td>\n",
       "      <td>-55.000000</td>\n",
       "      <td>-54.000000</td>\n",
       "      <td>-54.000000</td>\n",
       "      <td>-54.000000</td>\n",
       "      <td>-54.000000</td>\n",
       "      <td>-54.000000</td>\n",
       "      <td>-55.00000</td>\n",
       "      <td>-55.00000</td>\n",
       "      <td>-54.000000</td>\n",
       "      <td>-54.000000</td>\n",
       "      <td>-54.000000</td>\n",
       "      <td>-54.000000</td>\n",
       "      <td>-54.000000</td>\n",
       "      <td>-53.000000</td>\n",
       "      <td>-53.000000</td>\n",
       "      <td>-53.000000</td>\n",
       "      <td>-52.000000</td>\n",
       "      <td>-53.000000</td>\n",
       "      <td>-53.000000</td>\n",
       "      <td>-53.000000</td>\n",
       "      <td>-53.000000</td>\n",
       "      <td>-53.000000</td>\n",
       "      <td>-52.000000</td>\n",
       "      <td>-52.000000</td>\n",
       "      <td>-52.00000</td>\n",
       "      <td>-51.000000</td>\n",
       "      <td>-50.000000</td>\n",
       "      <td>-50.000000</td>\n",
       "      <td>-50.000000</td>\n",
       "      <td>-51.000000</td>\n",
       "      <td>-52.000000</td>\n",
       "      <td>-52.000000</td>\n",
       "      <td>-51.000000</td>\n",
       "      <td>-51.000000</td>\n",
       "      <td>-51.000000</td>\n",
       "      <td>-51.000000</td>\n",
       "      <td>-51.000000</td>\n",
       "      <td>-52.000000</td>\n",
       "      <td>-52.000000</td>\n",
       "      <td>...</td>\n",
       "      <td>-54.000000</td>\n",
       "      <td>-55.000000</td>\n",
       "      <td>-55.000000</td>\n",
       "      <td>-56.000000</td>\n",
       "      <td>-56.000000</td>\n",
       "      <td>-56.000000</td>\n",
       "      <td>-55.000000</td>\n",
       "      <td>-57.000000</td>\n",
       "      <td>-55.000000</td>\n",
       "      <td>-55.000000</td>\n",
       "      <td>-54.000000</td>\n",
       "      <td>-54.000000</td>\n",
       "      <td>-53.000000</td>\n",
       "      <td>-53.000000</td>\n",
       "      <td>-53.000000</td>\n",
       "      <td>-52.000000</td>\n",
       "      <td>-52.250000</td>\n",
       "      <td>-52.000000</td>\n",
       "      <td>-52.000000</td>\n",
       "      <td>-53.000000</td>\n",
       "      <td>-52.000000</td>\n",
       "      <td>-52.000000</td>\n",
       "      <td>-52.000000</td>\n",
       "      <td>-53.000000</td>\n",
       "      <td>-54.000000</td>\n",
       "      <td>-54.000000</td>\n",
       "      <td>-55.000000</td>\n",
       "      <td>-55.000000</td>\n",
       "      <td>-55.000000</td>\n",
       "      <td>-55.000000</td>\n",
       "      <td>-55.000000</td>\n",
       "      <td>-56.000000</td>\n",
       "      <td>-56.000000</td>\n",
       "      <td>-56.000000</td>\n",
       "      <td>-55.000000</td>\n",
       "      <td>-56.000000</td>\n",
       "      <td>-55.000000</td>\n",
       "      <td>-55.000000</td>\n",
       "      <td>-55.000000</td>\n",
       "      <td>0.000000</td>\n",
       "    </tr>\n",
       "    <tr>\n",
       "      <th>50%</th>\n",
       "      <td>-8.000000</td>\n",
       "      <td>-8.000000</td>\n",
       "      <td>-7.000000</td>\n",
       "      <td>-8.000000</td>\n",
       "      <td>-8.000000</td>\n",
       "      <td>-8.000000</td>\n",
       "      <td>-8.000000</td>\n",
       "      <td>-8.00000</td>\n",
       "      <td>-7.00000</td>\n",
       "      <td>-7.000000</td>\n",
       "      <td>-8.000000</td>\n",
       "      <td>-8.000000</td>\n",
       "      <td>-8.000000</td>\n",
       "      <td>-8.000000</td>\n",
       "      <td>-7.000000</td>\n",
       "      <td>-7.000000</td>\n",
       "      <td>-6.000000</td>\n",
       "      <td>-7.000000</td>\n",
       "      <td>-6.000000</td>\n",
       "      <td>-6.000000</td>\n",
       "      <td>-7.000000</td>\n",
       "      <td>-6.000000</td>\n",
       "      <td>-6.000000</td>\n",
       "      <td>-7.000000</td>\n",
       "      <td>-7.000000</td>\n",
       "      <td>-6.00000</td>\n",
       "      <td>-6.000000</td>\n",
       "      <td>-6.000000</td>\n",
       "      <td>-5.000000</td>\n",
       "      <td>-5.000000</td>\n",
       "      <td>-5.000000</td>\n",
       "      <td>-6.000000</td>\n",
       "      <td>-6.000000</td>\n",
       "      <td>-6.000000</td>\n",
       "      <td>-6.000000</td>\n",
       "      <td>-6.000000</td>\n",
       "      <td>-6.000000</td>\n",
       "      <td>-6.000000</td>\n",
       "      <td>-7.000000</td>\n",
       "      <td>-7.000000</td>\n",
       "      <td>...</td>\n",
       "      <td>-7.000000</td>\n",
       "      <td>-8.000000</td>\n",
       "      <td>-8.000000</td>\n",
       "      <td>-8.000000</td>\n",
       "      <td>-8.000000</td>\n",
       "      <td>-8.000000</td>\n",
       "      <td>-8.000000</td>\n",
       "      <td>-9.000000</td>\n",
       "      <td>-9.000000</td>\n",
       "      <td>-9.000000</td>\n",
       "      <td>-8.000000</td>\n",
       "      <td>-8.000000</td>\n",
       "      <td>-7.000000</td>\n",
       "      <td>-7.000000</td>\n",
       "      <td>-7.000000</td>\n",
       "      <td>-7.000000</td>\n",
       "      <td>-7.000000</td>\n",
       "      <td>-7.000000</td>\n",
       "      <td>-7.000000</td>\n",
       "      <td>-7.000000</td>\n",
       "      <td>-6.000000</td>\n",
       "      <td>-7.000000</td>\n",
       "      <td>-7.000000</td>\n",
       "      <td>-7.000000</td>\n",
       "      <td>-8.000000</td>\n",
       "      <td>-8.000000</td>\n",
       "      <td>-9.000000</td>\n",
       "      <td>-9.000000</td>\n",
       "      <td>-8.000000</td>\n",
       "      <td>-8.000000</td>\n",
       "      <td>-9.000000</td>\n",
       "      <td>-10.000000</td>\n",
       "      <td>-10.000000</td>\n",
       "      <td>-10.000000</td>\n",
       "      <td>-10.000000</td>\n",
       "      <td>-9.000000</td>\n",
       "      <td>-9.000000</td>\n",
       "      <td>-9.000000</td>\n",
       "      <td>-9.000000</td>\n",
       "      <td>0.000000</td>\n",
       "    </tr>\n",
       "    <tr>\n",
       "      <th>75%</th>\n",
       "      <td>34.000000</td>\n",
       "      <td>35.000000</td>\n",
       "      <td>36.000000</td>\n",
       "      <td>36.000000</td>\n",
       "      <td>35.000000</td>\n",
       "      <td>36.000000</td>\n",
       "      <td>35.000000</td>\n",
       "      <td>36.00000</td>\n",
       "      <td>36.00000</td>\n",
       "      <td>35.250000</td>\n",
       "      <td>36.000000</td>\n",
       "      <td>35.000000</td>\n",
       "      <td>36.000000</td>\n",
       "      <td>37.000000</td>\n",
       "      <td>37.000000</td>\n",
       "      <td>38.000000</td>\n",
       "      <td>37.000000</td>\n",
       "      <td>38.000000</td>\n",
       "      <td>38.000000</td>\n",
       "      <td>39.000000</td>\n",
       "      <td>39.000000</td>\n",
       "      <td>38.000000</td>\n",
       "      <td>37.000000</td>\n",
       "      <td>38.000000</td>\n",
       "      <td>37.000000</td>\n",
       "      <td>38.00000</td>\n",
       "      <td>37.000000</td>\n",
       "      <td>38.250000</td>\n",
       "      <td>38.000000</td>\n",
       "      <td>38.000000</td>\n",
       "      <td>38.000000</td>\n",
       "      <td>38.000000</td>\n",
       "      <td>38.000000</td>\n",
       "      <td>38.000000</td>\n",
       "      <td>39.000000</td>\n",
       "      <td>39.000000</td>\n",
       "      <td>39.000000</td>\n",
       "      <td>38.000000</td>\n",
       "      <td>38.000000</td>\n",
       "      <td>37.000000</td>\n",
       "      <td>...</td>\n",
       "      <td>36.000000</td>\n",
       "      <td>35.000000</td>\n",
       "      <td>35.000000</td>\n",
       "      <td>35.000000</td>\n",
       "      <td>35.000000</td>\n",
       "      <td>35.000000</td>\n",
       "      <td>35.000000</td>\n",
       "      <td>35.000000</td>\n",
       "      <td>34.000000</td>\n",
       "      <td>35.000000</td>\n",
       "      <td>36.000000</td>\n",
       "      <td>36.000000</td>\n",
       "      <td>36.000000</td>\n",
       "      <td>37.000000</td>\n",
       "      <td>36.000000</td>\n",
       "      <td>36.000000</td>\n",
       "      <td>35.250000</td>\n",
       "      <td>36.000000</td>\n",
       "      <td>36.000000</td>\n",
       "      <td>37.000000</td>\n",
       "      <td>36.000000</td>\n",
       "      <td>36.000000</td>\n",
       "      <td>37.000000</td>\n",
       "      <td>35.000000</td>\n",
       "      <td>35.000000</td>\n",
       "      <td>34.000000</td>\n",
       "      <td>35.000000</td>\n",
       "      <td>35.000000</td>\n",
       "      <td>34.000000</td>\n",
       "      <td>35.000000</td>\n",
       "      <td>34.000000</td>\n",
       "      <td>34.000000</td>\n",
       "      <td>33.000000</td>\n",
       "      <td>33.000000</td>\n",
       "      <td>34.000000</td>\n",
       "      <td>34.000000</td>\n",
       "      <td>34.000000</td>\n",
       "      <td>34.000000</td>\n",
       "      <td>34.000000</td>\n",
       "      <td>0.000000</td>\n",
       "    </tr>\n",
       "    <tr>\n",
       "      <th>max</th>\n",
       "      <td>1726.000000</td>\n",
       "      <td>1713.000000</td>\n",
       "      <td>1697.000000</td>\n",
       "      <td>1612.000000</td>\n",
       "      <td>1518.000000</td>\n",
       "      <td>1816.000000</td>\n",
       "      <td>2047.000000</td>\n",
       "      <td>2047.00000</td>\n",
       "      <td>2047.00000</td>\n",
       "      <td>2047.000000</td>\n",
       "      <td>2047.000000</td>\n",
       "      <td>2047.000000</td>\n",
       "      <td>2047.000000</td>\n",
       "      <td>1829.000000</td>\n",
       "      <td>1631.000000</td>\n",
       "      <td>1532.000000</td>\n",
       "      <td>1441.000000</td>\n",
       "      <td>1352.000000</td>\n",
       "      <td>1504.000000</td>\n",
       "      <td>1821.000000</td>\n",
       "      <td>2022.000000</td>\n",
       "      <td>2047.000000</td>\n",
       "      <td>2040.000000</td>\n",
       "      <td>1879.000000</td>\n",
       "      <td>1666.000000</td>\n",
       "      <td>1435.00000</td>\n",
       "      <td>1340.000000</td>\n",
       "      <td>1257.000000</td>\n",
       "      <td>1452.000000</td>\n",
       "      <td>1551.000000</td>\n",
       "      <td>1446.000000</td>\n",
       "      <td>1381.000000</td>\n",
       "      <td>1259.000000</td>\n",
       "      <td>1213.000000</td>\n",
       "      <td>1364.000000</td>\n",
       "      <td>1220.000000</td>\n",
       "      <td>1304.000000</td>\n",
       "      <td>1344.000000</td>\n",
       "      <td>1298.000000</td>\n",
       "      <td>1518.000000</td>\n",
       "      <td>...</td>\n",
       "      <td>2047.000000</td>\n",
       "      <td>2047.000000</td>\n",
       "      <td>2047.000000</td>\n",
       "      <td>2045.000000</td>\n",
       "      <td>2047.000000</td>\n",
       "      <td>2047.000000</td>\n",
       "      <td>2047.000000</td>\n",
       "      <td>2047.000000</td>\n",
       "      <td>1934.000000</td>\n",
       "      <td>1644.000000</td>\n",
       "      <td>1524.000000</td>\n",
       "      <td>1565.000000</td>\n",
       "      <td>1682.000000</td>\n",
       "      <td>1977.000000</td>\n",
       "      <td>2047.000000</td>\n",
       "      <td>2047.000000</td>\n",
       "      <td>1902.000000</td>\n",
       "      <td>1681.000000</td>\n",
       "      <td>1502.000000</td>\n",
       "      <td>1314.000000</td>\n",
       "      <td>1431.000000</td>\n",
       "      <td>1543.000000</td>\n",
       "      <td>1556.000000</td>\n",
       "      <td>1597.000000</td>\n",
       "      <td>1629.000000</td>\n",
       "      <td>1726.000000</td>\n",
       "      <td>2047.000000</td>\n",
       "      <td>2047.000000</td>\n",
       "      <td>2047.000000</td>\n",
       "      <td>2047.000000</td>\n",
       "      <td>1777.000000</td>\n",
       "      <td>1472.000000</td>\n",
       "      <td>1319.000000</td>\n",
       "      <td>1436.000000</td>\n",
       "      <td>1733.000000</td>\n",
       "      <td>1958.000000</td>\n",
       "      <td>2047.000000</td>\n",
       "      <td>2047.000000</td>\n",
       "      <td>1915.000000</td>\n",
       "      <td>1.000000</td>\n",
       "    </tr>\n",
       "  </tbody>\n",
       "</table>\n",
       "</div>"
      ],
      "text/plain": [
       "                 X1            X2      ...               X178             y\n",
       "count  11500.000000  11500.000000      ...       11500.000000  11500.000000\n",
       "mean     -11.581391    -10.911565      ...         -12.195652      0.200000\n",
       "std      165.626284    166.059609      ...         164.852015      0.400017\n",
       "min    -1839.000000  -1838.000000      ...       -1829.000000      0.000000\n",
       "25%      -54.000000    -55.000000      ...         -55.000000      0.000000\n",
       "50%       -8.000000     -8.000000      ...          -9.000000      0.000000\n",
       "75%       34.000000     35.000000      ...          34.000000      0.000000\n",
       "max     1726.000000   1713.000000      ...        1915.000000      1.000000\n",
       "\n",
       "[8 rows x 179 columns]"
      ]
     },
     "execution_count": 8,
     "metadata": {},
     "output_type": "execute_result"
    }
   ],
   "source": [
    "ESR.describe()"
   ]
  },
  {
   "cell_type": "code",
   "execution_count": 9,
   "metadata": {
    "_kg_hide-input": true,
    "_uuid": "38ab208871375f43e6afced6a807f23a85468a68",
    "execution": {
     "iopub.execute_input": "2023-02-04T16:10:49.746534Z",
     "iopub.status.busy": "2023-02-04T16:10:49.746185Z",
     "iopub.status.idle": "2023-02-04T16:10:49.765183Z",
     "shell.execute_reply": "2023-02-04T16:10:49.764214Z",
     "shell.execute_reply.started": "2023-02-04T16:10:49.746475Z"
    }
   },
   "outputs": [
    {
     "data": {
      "text/plain": [
       "(11500, 178)"
      ]
     },
     "execution_count": 9,
     "metadata": {},
     "output_type": "execute_result"
    }
   ],
   "source": [
    "X = ESR.iloc[:,1:179].values\n",
    "X.shape"
   ]
  },
  {
   "cell_type": "code",
   "execution_count": 10,
   "metadata": {
    "_kg_hide-input": true,
    "_uuid": "1c4c72aceecdc35866aee2ec777a435abaf46fc3",
    "execution": {
     "iopub.execute_input": "2023-02-04T16:11:20.937057Z",
     "iopub.status.busy": "2023-02-04T16:11:20.936736Z",
     "iopub.status.idle": "2023-02-04T16:11:21.824779Z",
     "shell.execute_reply": "2023-02-04T16:11:21.823734Z",
     "shell.execute_reply.started": "2023-02-04T16:11:20.936999Z"
    }
   },
   "outputs": [
    {
     "data": {
      "text/plain": [
       "Text(0.5,0,'Samples')"
      ]
     },
     "execution_count": 10,
     "metadata": {},
     "output_type": "execute_result"
    },
    {
     "data": {
      "image/png": "[encoded data removed]",
      "text/plain": [
       "<Figure size 432x288 with 5 Axes>"
      ]
     },
     "metadata": {
      "needs_background": "light"
     },
     "output_type": "display_data"
    }
   ],
   "source": [
    "plt.subplot(511)\n",
    "plt.plot(X[1,:])\n",
    "plt.title('Classes')\n",
    "plt.ylabel('uV')\n",
    "plt.subplot(512)\n",
    "plt.plot(X[7,:])\n",
    "plt.subplot(513)\n",
    "plt.plot(X[12,:])\n",
    "plt.subplot(514)\n",
    "plt.plot(X[0,:])\n",
    "plt.subplot(515)\n",
    "plt.plot(X[2,:])\n",
    "plt.xlabel('Samples')"
   ]
  },
  {
   "cell_type": "code",
   "execution_count": 11,
   "metadata": {
    "_kg_hide-input": true,
    "_uuid": "32875b29c90672f90bdba34fcb94656dfce9fb70",
    "execution": {
     "iopub.execute_input": "2023-02-04T16:14:52.800876Z",
     "iopub.status.busy": "2023-02-04T16:14:52.800558Z",
     "iopub.status.idle": "2023-02-04T16:14:52.807457Z",
     "shell.execute_reply": "2023-02-04T16:14:52.806187Z",
     "shell.execute_reply.started": "2023-02-04T16:14:52.800818Z"
    }
   },
   "outputs": [
    {
     "data": {
      "text/plain": [
       "array([0, 1, 0, ..., 0, 0, 0])"
      ]
     },
     "execution_count": 11,
     "metadata": {},
     "output_type": "execute_result"
    }
   ],
   "source": [
    "y = ESR.iloc[:,179].values\n",
    "y"
   ]
  },
  {
   "cell_type": "markdown",
   "metadata": {
    "_uuid": "182336e56e686533317d167bda1b5de60e3a3d14"
   },
   "source": [
    "To make this a binary problem, let's turn the non-seizure classes 0 while maintaining the seizure as 1."
   ]
  },
  {
   "cell_type": "code",
   "execution_count": 12,
   "metadata": {
    "_kg_hide-input": true,
    "_uuid": "67cdd58fc5bdc0fea9fff3a6c3eb030d17bb5fef",
    "execution": {
     "iopub.execute_input": "2023-02-04T16:15:09.285873Z",
     "iopub.status.busy": "2023-02-04T16:15:09.285566Z",
     "iopub.status.idle": "2023-02-04T16:15:09.291567Z",
     "shell.execute_reply": "2023-02-04T16:15:09.290732Z",
     "shell.execute_reply.started": "2023-02-04T16:15:09.285818Z"
    }
   },
   "outputs": [
    {
     "data": {
      "text/plain": [
       "array([0, 1, 0, ..., 0, 0, 0])"
      ]
     },
     "execution_count": 12,
     "metadata": {},
     "output_type": "execute_result"
    }
   ],
   "source": [
    "y[y>1]=0\n",
    "y"
   ]
  },
  {
   "cell_type": "markdown",
   "metadata": {
    "_uuid": "d8f8bee91ce354f316e8ebb6d43f3a38d468c06e"
   },
   "source": [
    "# &#128295; Building Machine Learning Models"
   ]
  },
  {
   "cell_type": "markdown",
   "metadata": {
    "_uuid": "3935f14daec0df6ff948054196c77fdf6a8d9196"
   },
   "source": [
    "##  Splitting the Dataset into the Training set and Test set\n"
   ]
  },
  {
   "cell_type": "code",
   "execution_count": 13,
   "metadata": {
    "_kg_hide-input": true,
    "_uuid": "98ca8b335764e01df2b8aaa10183a4e577854d30",
    "execution": {
     "iopub.execute_input": "2023-02-04T16:15:56.522009Z",
     "iopub.status.busy": "2023-02-04T16:15:56.521650Z",
     "iopub.status.idle": "2023-02-04T16:15:56.702302Z",
     "shell.execute_reply": "2023-02-04T16:15:56.701539Z",
     "shell.execute_reply.started": "2023-02-04T16:15:56.521957Z"
    }
   },
   "outputs": [],
   "source": [
    "from sklearn.model_selection import train_test_split, cross_val_score\n",
    "X_train, X_test, y_train, y_test = train_test_split(X, y, test_size = 0.2)"
   ]
  },
  {
   "cell_type": "markdown",
   "metadata": {
    "_uuid": "215e46fbe236162ccd3f551bdd4f58c4e13f30fd"
   },
   "source": [
    "## Feature Scaling"
   ]
  },
  {
   "cell_type": "code",
   "execution_count": 14,
   "metadata": {
    "_kg_hide-input": true,
    "_uuid": "7b5ac7857321848b984fbe95957e7078066daf75"
   },
   "outputs": [
    {
     "name": "stderr",
     "output_type": "stream",
     "text": [
      "/opt/conda/lib/python3.6/site-packages/sklearn/utils/validation.py:475: DataConversionWarning: Data with input dtype int64 was converted to float64 by StandardScaler.\n",
      "  warnings.warn(msg, DataConversionWarning)\n"
     ]
    }
   ],
   "source": [
    "from sklearn.preprocessing import StandardScaler\n",
    "sc = StandardScaler()\n",
    "X_train = sc.fit_transform(X_train)\n",
    "X_test = sc.transform(X_test)"
   ]
  },
  {
   "cell_type": "markdown",
   "metadata": {
    "_uuid": "1de8aa4a8362c101e7bbd3a3376257dd7ed03a9f"
   },
   "source": [
    "# 1. Logistic Regression\n",
    "![Imgur](https://i.imgur.com/HyPUqwF.png)\n",
    "Logistic regression, or logit regression, or logit model is a regression model where the dependent variable (DV) is categorical. This article covers the case of a binary dependent variable—that is, where it can take only two values, \"0\" and \"1\", which represent outcomes such as pass/fail, win/lose, alive/dead or healthy/sick. Cases where the dependent variable has more than two outcome categories may be analysed in multinomial logistic regression, or, if the multiple categories are ordered, in ordinal logistic regression."
   ]
  },
  {
   "cell_type": "code",
   "execution_count": 15,
   "metadata": {
    "_kg_hide-input": true,
    "_uuid": "bb41b354adaf04dc6ce4a4a3204fe5bd8df629bc",
    "execution": {
     "iopub.execute_input": "2023-02-04T16:16:43.271471Z",
     "iopub.status.busy": "2023-02-04T16:16:43.270930Z",
     "iopub.status.idle": "2023-02-04T16:17:09.283726Z",
     "shell.execute_reply": "2023-02-04T16:17:09.282895Z",
     "shell.execute_reply.started": "2023-02-04T16:16:43.271260Z"
    }
   },
   "outputs": [
    {
     "name": "stdout",
     "output_type": "stream",
     "text": [
      "82.25 %\n"
     ]
    }
   ],
   "source": [
    "from sklearn.linear_model import LogisticRegression\n",
    "clf = LogisticRegression()\n",
    "clf.fit(X_train, y_train)\n",
    "y_pred_log_reg = clf.predict(X_test)\n",
    "acc_log_reg = round(clf.score(X_train, y_train) * 100, 2)\n",
    "print (str(acc_log_reg) + ' %')"
   ]
  },
  {
   "cell_type": "markdown",
   "metadata": {
    "_uuid": "0fc90f5ec9c604aaafa2de62e676556cf206292b"
   },
   "source": [
    "# 2.Support Vector Machine (SVM)\n",
    "![Imgur](https://i.imgur.com/HyPUqwF.png)\n",
    "Support Vector Machine (SVM) model is a Supervised Learning model used for classification and regression analysis. It is a representation of the examples as points in space, mapped so that the examples of the separate categories are divided by a clear gap that is as wide as possible. New examples are then mapped into that same space and predicted to belong to a category based on which side of the gap they fall.\n",
    "\n",
    "In addition to performing linear classification, SVMs can efficiently perform a non-linear classification using what is called the kernel trick, implicitly mapping their inputs into high-dimensional feature spaces. Suppose some given data points each belong to one of two classes, and the goal is to decide which class a new data point will be in. In the case of support vector machines, a data point is viewed as a  p -dimensional vector (a list of  p  numbers), and we want to know whether we can separate such points with a  (p−1) -dimensional hyperplane.\n",
    "\n",
    "When data are not labeled, supervised learning is not possible, and an unsupervised learning approach is required, which attempts to find natural clustering of the data to groups, and then map new data to these formed groups. The clustering algorithm which provides an improvement to the support vector machines is called support vector clustering and is often used in industrial applications either when data are not labeled or when only some data are labeled as a preprocessing for a classification pass.\n",
    "\n",
    "In the below code, SVC stands for Support Vector Classification."
   ]
  },
  {
   "cell_type": "code",
   "execution_count": 16,
   "metadata": {
    "_kg_hide-input": true,
    "_uuid": "099f1945de2146e22b4cb0abbc5e128bdab827d3",
    "execution": {
     "iopub.execute_input": "2023-02-04T16:18:36.846561Z",
     "iopub.status.busy": "2023-02-04T16:18:36.846206Z",
     "iopub.status.idle": "2023-02-04T16:19:48.426881Z",
     "shell.execute_reply": "2023-02-04T16:19:48.426053Z",
     "shell.execute_reply.started": "2023-02-04T16:18:36.846502Z"
    }
   },
   "outputs": [
    {
     "name": "stdout",
     "output_type": "stream",
     "text": [
      "98.33%\n"
     ]
    }
   ],
   "source": [
    "from sklearn.svm import SVC\n",
    "clf = SVC()\n",
    "clf.fit(X_train, y_train)\n",
    "y_pred_svc = clf.predict(X_test)\n",
    "acc_svc = round(clf.score(X_train, y_train) * 100, 2)\n",
    "print (str(acc_svc) + '%')"
   ]
  },
  {
   "cell_type": "markdown",
   "metadata": {
    "_uuid": "f51852f983d909d7ed641c720e8e45064ebe3041"
   },
   "source": [
    "# Linear SVM"
   ]
  },
  {
   "cell_type": "code",
   "execution_count": 17,
   "metadata": {
    "_uuid": "171a3d7c5beba58348c4a2c878ebf7dfe4f703c8",
    "execution": {
     "iopub.execute_input": "2023-02-04T16:20:05.430600Z",
     "iopub.status.busy": "2023-02-04T16:20:05.430256Z",
     "iopub.status.idle": "2023-02-04T16:20:12.047290Z",
     "shell.execute_reply": "2023-02-04T16:20:12.046225Z",
     "shell.execute_reply.started": "2023-02-04T16:20:05.430545Z"
    }
   },
   "outputs": [
    {
     "name": "stdout",
     "output_type": "stream",
     "text": [
      "Acc=82.45%\n"
     ]
    }
   ],
   "source": [
    "from sklearn.svm import SVC, LinearSVC\n",
    "clf = LinearSVC()\n",
    "clf.fit(X_train, y_train)\n",
    "y_pred_linear_svc = clf.predict(X_test)\n",
    "acc_linear_svc = round(clf.score(X_train, y_train) * 100, 2)\n",
    "print (\"Acc=\"+ str(acc_linear_svc) + '%')"
   ]
  },
  {
   "cell_type": "markdown",
   "metadata": {
    "_uuid": "e7e214c66173633d35e15e637043b2aa4b782fe5"
   },
   "source": [
    "# 3.*k*-Nearest Neighbors\n",
    "![Imgur](https://i.imgur.com/HyPUqwF.png)\n",
    "*k* -nearest neighbors algorithm (k-NN) is one of the simplest machine learning algorithms and is used for classification and regression. In both cases, the input consists of the  k  closest training examples in the feature space. The output depends on whether  k -NN is used for classification or regression:\n",
    "\n",
    "* In  k -NN classification, the output is a class membership. An object is classified by a majority vote of its neighbors, with the object being assigned to the class most common among its  k  nearest neighbors ( k  is a positive integer, typically small). If  k=1 , then the object is simply assigned to the class of that single nearest neighbor.\n",
    "\n",
    "* In  k -NN regression, the output is the property value for the object. This value is the average of the values of its  k nearest neighbors."
   ]
  },
  {
   "cell_type": "code",
   "execution_count": 18,
   "metadata": {
    "_kg_hide-input": true,
    "_uuid": "93e7e59da21b3d12737061c6687cb628d0960dfb",
    "execution": {
     "iopub.execute_input": "2023-02-04T16:20:23.845710Z",
     "iopub.status.busy": "2023-02-04T16:20:23.845407Z",
     "iopub.status.idle": "2023-02-04T16:21:04.041098Z",
     "shell.execute_reply": "2023-02-04T16:21:04.040258Z",
     "shell.execute_reply.started": "2023-02-04T16:20:23.845656Z"
    }
   },
   "outputs": [
    {
     "name": "stdout",
     "output_type": "stream",
     "text": [
      "93.62%\n"
     ]
    }
   ],
   "source": [
    "from sklearn.neighbors import KNeighborsClassifier\n",
    "clf = KNeighborsClassifier()\n",
    "clf.fit(X_train, y_train)\n",
    "y_pred_knn = clf.predict(X_test)\n",
    "acc_knn = round(clf.score(X_train, y_train) * 100, 2)\n",
    "print (str(acc_knn)+'%')"
   ]
  },
  {
   "cell_type": "markdown",
   "metadata": {
    "_uuid": "9f64a172f160a43d9ebd5f5ff988de9ba7084bb1"
   },
   "source": [
    "# 4. Gaussian Naive Bayes\n",
    "![Imgur](https://i.imgur.com/HyPUqwF.png)\n",
    "Naive Bayes classifiers are a family of simple probabilistic classifiers based on applying Bayes' theorem with strong (naive) independence assumptions between the features.\n",
    "\n",
    "Bayes' theorem (alternatively Bayes' law or Bayes' rule) describes the probability of an event, based on prior knowledge of conditions that might be related to the event. For example, if cancer is related to age, then, using Bayes' theorem, a person's age can be used to more accurately assess the probability that they have cancer, compared to the assessment of the probability of cancer made without knowledge of the person's age.\n",
    "\n",
    "Naive Bayes is a simple technique for constructing classifiers: models that assign class labels to problem instances, represented as vectors of feature values, where the class labels are drawn from some finite set. It is not a single algorithm for training such classifiers, but a family of algorithms based on a common principle: all naive Bayes classifiers assume that the value of a particular feature is independent of the value of any other feature, given the class variable. For example, a fruit may be considered to be an apple if it is red, round, and about 10 cm in diameter. A naive Bayes classifier considers each of these features to contribute independently to the probability that this fruit is an apple, regardless of any possible correlations between the color, roundness, and diameter features."
   ]
  },
  {
   "cell_type": "code",
   "execution_count": 19,
   "metadata": {
    "_kg_hide-input": true,
    "_uuid": "6090e8aa7daae6d6aef32152a077d867beef9d1b",
    "execution": {
     "iopub.execute_input": "2023-02-04T16:21:11.345665Z",
     "iopub.status.busy": "2023-02-04T16:21:11.345356Z",
     "iopub.status.idle": "2023-02-04T16:21:11.399379Z",
     "shell.execute_reply": "2023-02-04T16:21:11.398283Z",
     "shell.execute_reply.started": "2023-02-04T16:21:11.345612Z"
    }
   },
   "outputs": [
    {
     "name": "stdout",
     "output_type": "stream",
     "text": [
      "95.79%\n"
     ]
    }
   ],
   "source": [
    "from sklearn.naive_bayes import GaussianNB\n",
    "clf = GaussianNB()\n",
    "clf.fit(X_train, y_train)\n",
    "y_pred_gnb = clf.predict(X_test)\n",
    "acc_gnb = round(clf.score(X_train, y_train) * 100, 2)\n",
    "print (str(acc_gnb) + '%')"
   ]
  },
  {
   "cell_type": "markdown",
   "metadata": {
    "_uuid": "724afa104f8fc061f379adb0ba408730e024abeb"
   },
   "source": [
    "# 5. Artificial Neural Networks(ANN)\n",
    "![Imgur](https://i.imgur.com/HyPUqwF.png)\n",
    "Computers are great at solving algorithmic and math problems, but often the world can't easily be defined with a mathematical algorithm. Facial recognition and language processing are a couple of examples of problems that can't easily be quantified into an algorithm, however these tasks are trivial to humans. The key to Artificial Neural Networks is that their design enables them to process information in a similar way to our own biological brains, by drawing inspiration from how our own nervous system functions. This makes them useful tools for solving problems like facial recognition, which our biological brains can do easily."
   ]
  },
  {
   "cell_type": "markdown",
   "metadata": {
    "_uuid": "a62b3d36e974853cec28f77b5a195a24bf04f5f4"
   },
   "source": [
    "## Modeling Artificial Neurons\n",
    "Artificial neuron models are at their core simplified models based on biological neurons. This allows them to capture the essence of how a biological neuron functions. We usually refer to these artificial neurons as 'perceptrons'. So now lets take a look at what a perceptron looks like.\n",
    "![Imgur](https://i.imgur.com/uvMRQ6R.jpg)\n",
    "As shown in the diagram above a typical perceptron will have many inputs and these inputs are all individually weighted. The perceptron weights can either amplify or deamplify the original input signal. For example, if the input is 1 and the input's weight is 0.2 the input will be decreased to 0.2. These weighted signals are then added together and passed into the activation function. The activation function is used to convert the input into a more useful output. There are many different types of activation function but one of the simplest would be step function. A step function will typically output a 1 if the input is higher than a certain threshold, otherwise it's output will be 0."
   ]
  },
  {
   "cell_type": "code",
   "execution_count": 20,
   "metadata": {
    "_kg_hide-input": true,
    "_uuid": "ef70904940d3a29a09db064e4264729878a88798",
    "execution": {
     "iopub.execute_input": "2023-02-04T16:21:26.101438Z",
     "iopub.status.busy": "2023-02-04T16:21:26.101065Z",
     "iopub.status.idle": "2023-02-04T16:21:26.466017Z",
     "shell.execute_reply": "2023-02-04T16:21:26.464944Z",
     "shell.execute_reply.started": "2023-02-04T16:21:26.101381Z"
    }
   },
   "outputs": [
    {
     "name": "stderr",
     "output_type": "stream",
     "text": [
      "Using TensorFlow backend.\n"
     ]
    }
   ],
   "source": [
    "#Importing keras libraries and packages\n",
    "import keras\n",
    "from keras.models import Sequential\n",
    "from keras.layers import Dense"
   ]
  },
  {
   "cell_type": "markdown",
   "metadata": {
    "_uuid": "b1cb8e842cc4865e02f3cd620ed2d1ce36529876"
   },
   "source": [
    "## Implementing Artificial Neural Networks\n",
    "So now you're probably wondering what an artificial neural network looks like and how it uses these artificial neurons to process information. In this tutorial we're going to be looking at feedforward networks and how their design links our perceptron together creating a functioning artificial neural network. Before we begin lets take a look at what a basic feedforward network looks like:\n",
    "![Imgur](https://i.imgur.com/la4Rwn6.jpg)\n",
    "Each input from the input layer is fed up to each node in the hidden layer, and from there to each node on the output layer. We should note that there can be any number of nodes per layer and there are usually multiple hidden layers to pass through before ultimately reaching the output layer. Choosing the right number of nodes and layers is important later on when optimising the neural network to work well a given problem. As you can probably tell from the diagram, it's called a feedforward network because of how the signals are passed through the layers of the neural network in a single direction. These aren't the only type of neural network though. There are also feedback networks where its architecture allows signals to travel in both directions."
   ]
  },
  {
   "cell_type": "markdown",
   "metadata": {
    "_uuid": "17903f4e7acd699e10feddda3f2ede2f122ba0d5"
   },
   "source": [
    "### Initializing the ANN"
   ]
  },
  {
   "cell_type": "code",
   "execution_count": 21,
   "metadata": {
    "_kg_hide-input": true,
    "_uuid": "d5227ec581d362265d05d1ed25c12ac8f443464d",
    "execution": {
     "iopub.execute_input": "2023-02-04T16:21:44.497129Z",
     "iopub.status.busy": "2023-02-04T16:21:44.496791Z",
     "iopub.status.idle": "2023-02-04T16:21:44.502121Z",
     "shell.execute_reply": "2023-02-04T16:21:44.501249Z",
     "shell.execute_reply.started": "2023-02-04T16:21:44.497065Z"
    }
   },
   "outputs": [],
   "source": [
    "classifier = Sequential()"
   ]
  },
  {
   "cell_type": "markdown",
   "metadata": {
    "_uuid": "4a9c01703ffd3ac194233a5e862225f3e010a80b"
   },
   "source": [
    "### Adding input layer and first hidden layer"
   ]
  },
  {
   "cell_type": "code",
   "execution_count": 22,
   "metadata": {
    "_kg_hide-input": true,
    "_uuid": "5cc825b56c5217cb6a39b696bc5f6e2552814d69",
    "execution": {
     "iopub.execute_input": "2023-02-04T16:21:56.915832Z",
     "iopub.status.busy": "2023-02-04T16:21:56.915508Z",
     "iopub.status.idle": "2023-02-04T16:21:56.940695Z",
     "shell.execute_reply": "2023-02-04T16:21:56.939772Z",
     "shell.execute_reply.started": "2023-02-04T16:21:56.915778Z"
    }
   },
   "outputs": [
    {
     "name": "stderr",
     "output_type": "stream",
     "text": [
      "/opt/conda/lib/python3.6/site-packages/ipykernel_launcher.py:1: UserWarning: Update your `Dense` call to the Keras 2 API: `Dense(activation=\"relu\", input_dim=178, units=80, kernel_initializer=\"uniform\")`\n",
      "  \"\"\"Entry point for launching an IPython kernel.\n"
     ]
    }
   ],
   "source": [
    "classifier.add(Dense(output_dim = 80, init = 'uniform', activation = 'relu', input_dim = 178))"
   ]
  },
  {
   "cell_type": "markdown",
   "metadata": {
    "_uuid": "a50585c8466e7c04739e18ae53cca8888282bce7"
   },
   "source": [
    "### Adding second hidden layer"
   ]
  },
  {
   "cell_type": "code",
   "execution_count": 23,
   "metadata": {
    "_kg_hide-input": true,
    "_uuid": "4d28df06df33846c0004b4461e7f67ef1bf78c5c",
    "execution": {
     "iopub.execute_input": "2023-02-04T16:22:04.781500Z",
     "iopub.status.busy": "2023-02-04T16:22:04.780980Z",
     "iopub.status.idle": "2023-02-04T16:22:04.801529Z",
     "shell.execute_reply": "2023-02-04T16:22:04.800751Z",
     "shell.execute_reply.started": "2023-02-04T16:22:04.781251Z"
    }
   },
   "outputs": [
    {
     "name": "stderr",
     "output_type": "stream",
     "text": [
      "/opt/conda/lib/python3.6/site-packages/ipykernel_launcher.py:1: UserWarning: Update your `Dense` call to the Keras 2 API: `Dense(activation=\"relu\", units=80, kernel_initializer=\"uniform\")`\n",
      "  \"\"\"Entry point for launching an IPython kernel.\n"
     ]
    }
   ],
   "source": [
    "classifier.add(Dense(output_dim = 80, init = 'uniform', activation = 'relu'))"
   ]
  },
  {
   "cell_type": "markdown",
   "metadata": {
    "_uuid": "b9b816ba42105e4d2d9f8ae465c59bc92eddd0b7"
   },
   "source": [
    "### Adding the output layer"
   ]
  },
  {
   "cell_type": "code",
   "execution_count": 24,
   "metadata": {
    "_kg_hide-input": true,
    "_uuid": "b783f126f5845942a7fc9c46717cba4202527647",
    "execution": {
     "iopub.execute_input": "2023-02-04T16:22:13.695692Z",
     "iopub.status.busy": "2023-02-04T16:22:13.695371Z",
     "iopub.status.idle": "2023-02-04T16:22:13.716156Z",
     "shell.execute_reply": "2023-02-04T16:22:13.715134Z",
     "shell.execute_reply.started": "2023-02-04T16:22:13.695638Z"
    }
   },
   "outputs": [
    {
     "name": "stderr",
     "output_type": "stream",
     "text": [
      "/opt/conda/lib/python3.6/site-packages/ipykernel_launcher.py:1: UserWarning: Update your `Dense` call to the Keras 2 API: `Dense(activation=\"sigmoid\", units=1, kernel_initializer=\"uniform\")`\n",
      "  \"\"\"Entry point for launching an IPython kernel.\n"
     ]
    }
   ],
   "source": [
    "classifier.add(Dense(output_dim = 1, init = 'uniform', activation = 'sigmoid'))"
   ]
  },
  {
   "cell_type": "markdown",
   "metadata": {
    "_uuid": "34352f3b099615aa9161cd4426ca522a91c4cf77"
   },
   "source": [
    "### Compiling the ANN"
   ]
  },
  {
   "cell_type": "code",
   "execution_count": 25,
   "metadata": {
    "_kg_hide-input": true,
    "_uuid": "0b1f53b91b238b641147d384922834e0b562d6df",
    "execution": {
     "iopub.execute_input": "2023-02-04T16:22:18.859963Z",
     "iopub.status.busy": "2023-02-04T16:22:18.859658Z",
     "iopub.status.idle": "2023-02-04T16:26:32.244329Z",
     "shell.execute_reply": "2023-02-04T16:26:32.243688Z",
     "shell.execute_reply.started": "2023-02-04T16:22:18.859907Z"
    }
   },
   "outputs": [
    {
     "name": "stderr",
     "output_type": "stream",
     "text": [
      "/opt/conda/lib/python3.6/site-packages/ipykernel_launcher.py:4: UserWarning: The `nb_epoch` argument in `fit` has been renamed `epochs`.\n",
      "  after removing the cwd from sys.path.\n"
     ]
    },
    {
     "name": "stdout",
     "output_type": "stream",
     "text": [
      "Epoch 1/100\n",
      "9200/9200 [==============================] - 6s 629us/step - loss: 0.1890 - acc: 0.9516\n",
      "Epoch 2/100\n",
      "9200/9200 [==============================] - 2s 262us/step - loss: 0.0893 - acc: 0.9699\n",
      "Epoch 3/100\n",
      "9200/9200 [==============================] - 2s 259us/step - loss: 0.0682 - acc: 0.9775\n",
      "Epoch 4/100\n",
      "9200/9200 [==============================] - 2s 252us/step - loss: 0.0638 - acc: 0.9778\n",
      "Epoch 5/100\n",
      "9200/9200 [==============================] - 2s 251us/step - loss: 0.0573 - acc: 0.9790\n",
      "Epoch 6/100\n",
      "9200/9200 [==============================] - 3s 275us/step - loss: 0.0465 - acc: 0.9851\n",
      "Epoch 7/100\n",
      "9200/9200 [==============================] - 3s 274us/step - loss: 0.0438 - acc: 0.9829\n",
      "Epoch 8/100\n",
      "9200/9200 [==============================] - 3s 303us/step - loss: 0.0395 - acc: 0.9855\n",
      "Epoch 9/100\n",
      "9200/9200 [==============================] - 2s 255us/step - loss: 0.0369 - acc: 0.9872\n",
      "Epoch 10/100\n",
      "9200/9200 [==============================] - 3s 290us/step - loss: 0.0395 - acc: 0.9878\n",
      "Epoch 11/100\n",
      "9200/9200 [==============================] - 2s 259us/step - loss: 0.0293 - acc: 0.9885\n",
      "Epoch 12/100\n",
      "9200/9200 [==============================] - 2s 251us/step - loss: 0.0287 - acc: 0.9888\n",
      "Epoch 13/100\n",
      "9200/9200 [==============================] - 2s 252us/step - loss: 0.0229 - acc: 0.9920\n",
      "Epoch 14/100\n",
      "9200/9200 [==============================] - 2s 255us/step - loss: 0.0277 - acc: 0.9902\n",
      "Epoch 15/100\n",
      "9200/9200 [==============================] - 2s 272us/step - loss: 0.0221 - acc: 0.9926\n",
      "Epoch 16/100\n",
      "9200/9200 [==============================] - 2s 252us/step - loss: 0.0250 - acc: 0.9913\n",
      "Epoch 17/100\n",
      "9200/9200 [==============================] - 2s 249us/step - loss: 0.0173 - acc: 0.9945\n",
      "Epoch 18/100\n",
      "9200/9200 [==============================] - 2s 252us/step - loss: 0.0162 - acc: 0.9950\n",
      "Epoch 19/100\n",
      "9200/9200 [==============================] - 2s 256us/step - loss: 0.0187 - acc: 0.9945\n",
      "Epoch 20/100\n",
      "9200/9200 [==============================] - 3s 309us/step - loss: 0.0129 - acc: 0.9959\n",
      "Epoch 21/100\n",
      "9200/9200 [==============================] - 3s 289us/step - loss: 0.0189 - acc: 0.9936\n",
      "Epoch 22/100\n",
      "9200/9200 [==============================] - 2s 252us/step - loss: 0.0132 - acc: 0.9955\n",
      "Epoch 23/100\n",
      "9200/9200 [==============================] - 2s 253us/step - loss: 0.0119 - acc: 0.9963\n",
      "Epoch 24/100\n",
      "9200/9200 [==============================] - 3s 280us/step - loss: 0.0075 - acc: 0.9976\n",
      "Epoch 25/100\n",
      "9200/9200 [==============================] - 2s 252us/step - loss: 0.0167 - acc: 0.9946\n",
      "Epoch 26/100\n",
      "9200/9200 [==============================] - 2s 257us/step - loss: 0.0099 - acc: 0.9968\n",
      "Epoch 27/100\n",
      "9200/9200 [==============================] - 2s 257us/step - loss: 0.0118 - acc: 0.9972\n",
      "Epoch 28/100\n",
      "9200/9200 [==============================] - 2s 258us/step - loss: 0.0213 - acc: 0.9927\n",
      "Epoch 29/100\n",
      "9200/9200 [==============================] - 3s 272us/step - loss: 0.0058 - acc: 0.9982\n",
      "Epoch 30/100\n",
      "9200/9200 [==============================] - 2s 251us/step - loss: 0.0046 - acc: 0.9990\n",
      "Epoch 31/100\n",
      "9200/9200 [==============================] - 2s 253us/step - loss: 0.0180 - acc: 0.9957\n",
      "Epoch 32/100\n",
      "9200/9200 [==============================] - 2s 249us/step - loss: 0.0133 - acc: 0.9962\n",
      "Epoch 33/100\n",
      "9200/9200 [==============================] - 3s 297us/step - loss: 0.0120 - acc: 0.9959\n",
      "Epoch 34/100\n",
      "9200/9200 [==============================] - 3s 299us/step - loss: 0.0081 - acc: 0.9977\n",
      "Epoch 35/100\n",
      "9200/9200 [==============================] - 2s 253us/step - loss: 0.0046 - acc: 0.9985\n",
      "Epoch 36/100\n",
      "9200/9200 [==============================] - 2s 250us/step - loss: 0.0065 - acc: 0.9980\n",
      "Epoch 37/100\n",
      "9200/9200 [==============================] - 2s 250us/step - loss: 0.0121 - acc: 0.9967\n",
      "Epoch 38/100\n",
      "9200/9200 [==============================] - 3s 283us/step - loss: 0.0081 - acc: 0.9972\n",
      "Epoch 39/100\n",
      "9200/9200 [==============================] - 2s 250us/step - loss: 0.0039 - acc: 0.9987\n",
      "Epoch 40/100\n",
      "9200/9200 [==============================] - 2s 250us/step - loss: 0.0147 - acc: 0.9959\n",
      "Epoch 41/100\n",
      "9200/9200 [==============================] - 2s 248us/step - loss: 0.0025 - acc: 0.9995\n",
      "Epoch 42/100\n",
      "9200/9200 [==============================] - 3s 279us/step - loss: 0.0043 - acc: 0.9987\n",
      "Epoch 43/100\n",
      "9200/9200 [==============================] - 2s 254us/step - loss: 0.0161 - acc: 0.9951\n",
      "Epoch 44/100\n",
      "9200/9200 [==============================] - 2s 251us/step - loss: 0.0030 - acc: 0.9991\n",
      "Epoch 45/100\n",
      "9200/9200 [==============================] - 2s 251us/step - loss: 0.0049 - acc: 0.9991\n",
      "Epoch 46/100\n",
      "9200/9200 [==============================] - 2s 253us/step - loss: 6.4691e-04 - acc: 0.9999\n",
      "Epoch 47/100\n",
      "9200/9200 [==============================] - 3s 342us/step - loss: 7.8563e-04 - acc: 0.9998\n",
      "Epoch 48/100\n",
      "9200/9200 [==============================] - 2s 251us/step - loss: 0.0235 - acc: 0.9942\n",
      "Epoch 49/100\n",
      "9200/9200 [==============================] - 2s 250us/step - loss: 0.0129 - acc: 0.9959\n",
      "Epoch 50/100\n",
      "9200/9200 [==============================] - 2s 250us/step - loss: 0.0021 - acc: 0.9995\n",
      "Epoch 51/100\n",
      "9200/9200 [==============================] - 3s 284us/step - loss: 0.0013 - acc: 0.9997\n",
      "Epoch 52/100\n",
      "9200/9200 [==============================] - 2s 270us/step - loss: 0.0098 - acc: 0.9979\n",
      "Epoch 53/100\n",
      "9200/9200 [==============================] - 2s 264us/step - loss: 0.0166 - acc: 0.9960\n",
      "Epoch 54/100\n",
      "9200/9200 [==============================] - 2s 262us/step - loss: 0.0015 - acc: 0.9995\n",
      "Epoch 55/100\n",
      "9200/9200 [==============================] - 2s 251us/step - loss: 3.0735e-04 - acc: 1.0000\n",
      "Epoch 56/100\n",
      "9200/9200 [==============================] - 3s 273us/step - loss: 1.8365e-04 - acc: 1.0000\n",
      "Epoch 57/100\n",
      "9200/9200 [==============================] - 2s 251us/step - loss: 1.3396e-04 - acc: 1.0000\n",
      "Epoch 58/100\n",
      "9200/9200 [==============================] - 2s 249us/step - loss: 4.8596e-04 - acc: 0.9998\n",
      "Epoch 59/100\n",
      "9200/9200 [==============================] - 2s 266us/step - loss: 0.0437 - acc: 0.9916\n",
      "Epoch 60/100\n",
      "9200/9200 [==============================] - 3s 323us/step - loss: 0.0046 - acc: 0.9980\n",
      "Epoch 61/100\n",
      "9200/9200 [==============================] - 2s 251us/step - loss: 0.0030 - acc: 0.9993\n",
      "Epoch 62/100\n",
      "9200/9200 [==============================] - 2s 253us/step - loss: 0.0023 - acc: 0.9992\n",
      "Epoch 63/100\n",
      "9200/9200 [==============================] - 2s 253us/step - loss: 0.0090 - acc: 0.9978\n",
      "Epoch 64/100\n",
      "9200/9200 [==============================] - 2s 249us/step - loss: 0.0162 - acc: 0.9957\n",
      "Epoch 65/100\n",
      "9200/9200 [==============================] - 3s 279us/step - loss: 0.0123 - acc: 0.9968\n",
      "Epoch 66/100\n",
      "9200/9200 [==============================] - 2s 249us/step - loss: 0.0014 - acc: 0.9995\n",
      "Epoch 67/100\n",
      "9200/9200 [==============================] - 2s 249us/step - loss: 0.0013 - acc: 0.9997\n",
      "Epoch 68/100\n",
      "9200/9200 [==============================] - 2s 255us/step - loss: 0.0043 - acc: 0.9983\n",
      "Epoch 69/100\n",
      "9200/9200 [==============================] - 2s 264us/step - loss: 0.0142 - acc: 0.9966\n",
      "Epoch 70/100\n",
      "9200/9200 [==============================] - 2s 265us/step - loss: 0.0104 - acc: 0.9978\n",
      "Epoch 71/100\n",
      "9200/9200 [==============================] - 2s 250us/step - loss: 0.0135 - acc: 0.9967\n",
      "Epoch 72/100\n",
      "9200/9200 [==============================] - 2s 250us/step - loss: 0.0031 - acc: 0.9993\n",
      "Epoch 73/100\n",
      "9200/9200 [==============================] - 3s 316us/step - loss: 0.0032 - acc: 0.9987\n",
      "Epoch 74/100\n",
      "9200/9200 [==============================] - 3s 279us/step - loss: 3.2580e-04 - acc: 0.9999\n",
      "Epoch 75/100\n",
      "9200/9200 [==============================] - 2s 247us/step - loss: 9.9687e-05 - acc: 1.0000\n",
      "Epoch 76/100\n",
      "9200/9200 [==============================] - 2s 251us/step - loss: 7.1423e-05 - acc: 1.0000\n",
      "Epoch 77/100\n",
      "9200/9200 [==============================] - 2s 252us/step - loss: 4.5841e-05 - acc: 1.0000\n",
      "Epoch 78/100\n",
      "9200/9200 [==============================] - 2s 253us/step - loss: 0.0073 - acc: 0.9990\n",
      "Epoch 79/100\n",
      "9200/9200 [==============================] - 2s 267us/step - loss: 0.0349 - acc: 0.9926\n",
      "Epoch 80/100\n",
      "9200/9200 [==============================] - 2s 251us/step - loss: 0.0113 - acc: 0.9974\n",
      "Epoch 81/100\n",
      "9200/9200 [==============================] - 2s 251us/step - loss: 0.0050 - acc: 0.9984\n",
      "Epoch 82/100\n",
      "9200/9200 [==============================] - 2s 251us/step - loss: 5.2745e-04 - acc: 0.9999\n",
      "Epoch 83/100\n",
      "9200/9200 [==============================] - 3s 278us/step - loss: 6.4827e-04 - acc: 0.9999\n",
      "Epoch 84/100\n",
      "9200/9200 [==============================] - 2s 249us/step - loss: 0.0061 - acc: 0.9987\n",
      "Epoch 85/100\n",
      "9200/9200 [==============================] - 2s 250us/step - loss: 0.0043 - acc: 0.9980\n",
      "Epoch 86/100\n",
      "9200/9200 [==============================] - 3s 316us/step - loss: 0.0074 - acc: 0.9978\n",
      "Epoch 87/100\n",
      "9200/9200 [==============================] - 2s 250us/step - loss: 0.0047 - acc: 0.9985\n",
      "Epoch 88/100\n",
      "9200/9200 [==============================] - 3s 283us/step - loss: 0.0020 - acc: 0.9993\n",
      "Epoch 89/100\n",
      "9200/9200 [==============================] - 2s 251us/step - loss: 0.0049 - acc: 0.9983\n",
      "Epoch 90/100\n",
      "9200/9200 [==============================] - 2s 248us/step - loss: 0.0033 - acc: 0.9990\n",
      "Epoch 91/100\n",
      "9200/9200 [==============================] - 2s 248us/step - loss: 0.0015 - acc: 0.9996\n",
      "Epoch 92/100\n",
      "9200/9200 [==============================] - 3s 285us/step - loss: 0.0123 - acc: 0.9967\n",
      "Epoch 93/100\n",
      "9200/9200 [==============================] - 2s 270us/step - loss: 0.0133 - acc: 0.9974\n",
      "Epoch 94/100\n",
      "9200/9200 [==============================] - 2s 261us/step - loss: 0.0030 - acc: 0.9989\n",
      "Epoch 95/100\n",
      "9200/9200 [==============================] - 2s 252us/step - loss: 0.0058 - acc: 0.9991\n",
      "Epoch 96/100\n",
      "9200/9200 [==============================] - 2s 254us/step - loss: 9.8194e-05 - acc: 1.0000\n",
      "Epoch 97/100\n",
      "9200/9200 [==============================] - 3s 277us/step - loss: 3.9153e-05 - acc: 1.0000\n",
      "Epoch 98/100\n",
      "9200/9200 [==============================] - 2s 252us/step - loss: 3.0572e-05 - acc: 1.0000\n",
      "Epoch 99/100\n",
      "9200/9200 [==============================] - 3s 309us/step - loss: 2.2075e-05 - acc: 1.0000\n",
      "Epoch 100/100\n",
      "9200/9200 [==============================] - 2s 249us/step - loss: 1.6556e-05 - acc: 1.0000\n"
     ]
    },
    {
     "data": {
      "text/plain": [
       "<keras.callbacks.History at 0x7fc829724fd0>"
      ]
     },
     "execution_count": 25,
     "metadata": {},
     "output_type": "execute_result"
    }
   ],
   "source": [
    "classifier.compile(optimizer = 'adam', loss = 'binary_crossentropy', metrics = ['accuracy'])\n",
    "\n",
    "#Fitting the ANN to the training set\n",
    "classifier.fit(X_train, y_train, batch_size = 10, nb_epoch = 100)"
   ]
  },
  {
   "cell_type": "code",
   "execution_count": 26,
   "metadata": {
    "_kg_hide-input": true,
    "_uuid": "d6d20a37e919957eca21406a579f230c69dddf4d",
    "execution": {
     "iopub.execute_input": "2023-02-04T16:31:12.750769Z",
     "iopub.status.busy": "2023-02-04T16:31:12.750446Z",
     "iopub.status.idle": "2023-02-04T16:31:12.843789Z",
     "shell.execute_reply": "2023-02-04T16:31:12.842240Z",
     "shell.execute_reply.started": "2023-02-04T16:31:12.750714Z"
    }
   },
   "outputs": [
    {
     "name": "stdout",
     "output_type": "stream",
     "text": [
      "95.79%\n"
     ]
    }
   ],
   "source": [
    "# Predicting the Test set results\n",
    "y_pred = classifier.predict(X_test)\n",
    "y_pred = (y_pred > 0.5)\n",
    "acc_ANN = round(clf.score(X_train, y_train) * 100, 2)\n",
    "print (str(acc_ANN) + '%')"
   ]
  },
  {
   "cell_type": "markdown",
   "metadata": {
    "_uuid": "6ca8da32b15bea0d9a05d29b2b870e7b5e3d6f8c"
   },
   "source": [
    "# Principal Component Analysis (PCA)\n",
    "![Imgur](https://i.imgur.com/HyPUqwF.png)\n",
    "Principal\tComponent\tAnalysis\t(PCA)is a dimension-reduction tool that can be used to reduce a large set of variables to a small set that still contains most of the information in the large set.\n",
    "\n",
    "How does PCA work -\n",
    "\n",
    "1. Calculate the covariance matrix X of data points.\n",
    "2. Calculate eigen vectors and corresponding eigen values.\n",
    "3. Sort the eigen vectors according to their eigen values in decreasing order.\n",
    "4. Choose first k eigen vectors and that will be the new k dimensions.\n",
    "5. Transform the original n dimensional data points into k dimensions."
   ]
  },
  {
   "cell_type": "code",
   "execution_count": 27,
   "metadata": {
    "_kg_hide-input": true,
    "_uuid": "61a34e727af945a625193d25df16c3941e451cf7",
    "execution": {
     "iopub.execute_input": "2023-02-04T16:31:19.380504Z",
     "iopub.status.busy": "2023-02-04T16:31:19.380163Z",
     "iopub.status.idle": "2023-02-04T16:31:19.697483Z",
     "shell.execute_reply": "2023-02-04T16:31:19.694880Z",
     "shell.execute_reply.started": "2023-02-04T16:31:19.380447Z"
    }
   },
   "outputs": [
    {
     "name": "stdout",
     "output_type": "stream",
     "text": [
      "90.0%\n"
     ]
    }
   ],
   "source": [
    "from sklearn.decomposition import PCA\n",
    "pca = PCA()\n",
    "X_train_pca = pca.fit_transform(X_train)\n",
    "X_test_pca = pca.transform(X_test)\n",
    "acc_PCA = round(pca.score(X_train, y_train) )\n",
    "print (str(acc_PCA) + '%')"
   ]
  },
  {
   "cell_type": "markdown",
   "metadata": {
    "_uuid": "572251b49c99a3c6e27d0945cb9fcc53e7a29662"
   },
   "source": [
    "# Comparing Models"
   ]
  },
  {
   "cell_type": "code",
   "execution_count": 28,
   "metadata": {
    "_uuid": "646bccff6126c0b579594a3217c0fa045473abfd",
    "execution": {
     "iopub.execute_input": "2023-02-04T16:31:32.935133Z",
     "iopub.status.busy": "2023-02-04T16:31:32.934807Z",
     "iopub.status.idle": "2023-02-04T16:31:32.951650Z",
     "shell.execute_reply": "2023-02-04T16:31:32.950324Z",
     "shell.execute_reply.started": "2023-02-04T16:31:32.935066Z"
    }
   },
   "outputs": [
    {
     "data": {
      "text/html": [
       "<div>\n",
       "<style scoped>\n",
       "    .dataframe tbody tr th:only-of-type {\n",
       "        vertical-align: middle;\n",
       "    }\n",
       "\n",
       "    .dataframe tbody tr th {\n",
       "        vertical-align: top;\n",
       "    }\n",
       "\n",
       "    .dataframe thead th {\n",
       "        text-align: right;\n",
       "    }\n",
       "</style>\n",
       "<table border=\"1\" class=\"dataframe\">\n",
       "  <thead>\n",
       "    <tr style=\"text-align: right;\">\n",
       "      <th></th>\n",
       "      <th>Model</th>\n",
       "      <th>Score</th>\n",
       "    </tr>\n",
       "  </thead>\n",
       "  <tbody>\n",
       "    <tr>\n",
       "      <th>1</th>\n",
       "      <td>Support Vector Machines</td>\n",
       "      <td>98.33</td>\n",
       "    </tr>\n",
       "    <tr>\n",
       "      <th>2</th>\n",
       "      <td>ANN</td>\n",
       "      <td>95.79</td>\n",
       "    </tr>\n",
       "    <tr>\n",
       "      <th>4</th>\n",
       "      <td>Naive Bayes</td>\n",
       "      <td>95.79</td>\n",
       "    </tr>\n",
       "    <tr>\n",
       "      <th>3</th>\n",
       "      <td>KNN</td>\n",
       "      <td>93.62</td>\n",
       "    </tr>\n",
       "    <tr>\n",
       "      <th>5</th>\n",
       "      <td>Principal Component Analysis</td>\n",
       "      <td>90.00</td>\n",
       "    </tr>\n",
       "    <tr>\n",
       "      <th>0</th>\n",
       "      <td>Logistic Regression</td>\n",
       "      <td>82.25</td>\n",
       "    </tr>\n",
       "  </tbody>\n",
       "</table>\n",
       "</div>"
      ],
      "text/plain": [
       "                          Model  Score\n",
       "1       Support Vector Machines  98.33\n",
       "2                           ANN  95.79\n",
       "4                   Naive Bayes  95.79\n",
       "3                           KNN  93.62\n",
       "5  Principal Component Analysis  90.00\n",
       "0           Logistic Regression  82.25"
      ]
     },
     "execution_count": 28,
     "metadata": {},
     "output_type": "execute_result"
    }
   ],
   "source": [
    "models = pd.DataFrame({\n",
    "    'Model': ['Logistic Regression', 'Support Vector Machines','ANN', \n",
    "              'KNN', 'Naive Bayes', 'Principal Component Analysis'],\n",
    "    \n",
    "    'Score': [acc_log_reg, acc_svc,acc_ANN , \n",
    "              acc_knn, acc_gnb,acc_PCA ]\n",
    "    })\n",
    "\n",
    "models.sort_values(by='Score', ascending=False)"
   ]
  },
  {
   "cell_type": "markdown",
   "metadata": {
    "_uuid": "a53f723605eb5f1852bb9b094ebba1d6fe035f3c"
   },
   "source": [
    "# Conclusion\n",
    "The aim of this study is to detect epileptic seizure using two different feature ex-traction methods and comparison performance of various machine learning algorithms."
   ]
  },
  {
   "cell_type": "markdown",
   "metadata": {},
   "source": [
    "**EEG EPILIPTIC : FINISH**"
   ]
  }
 ],
 "metadata": {
  "kernelspec": {
   "display_name": "Python 3",
   "language": "python",
   "name": "python3"
  },
  "language_info": {
   "codemirror_mode": {
    "name": "ipython",
    "version": 3
   },
   "file_extension": ".py",
   "mimetype": "text/x-python",
   "name": "python",
   "nbconvert_exporter": "python",
   "pygments_lexer": "ipython3",
   "version": "3.6.6"
  }
 },
 "nbformat": 4,
 "nbformat_minor": 4
}
